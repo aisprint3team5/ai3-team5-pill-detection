{
  "nbformat": 4,
  "nbformat_minor": 0,
  "metadata": {
    "colab": {
      "provenance": [],
      "collapsed_sections": [
        "WtFLIB5naFkL"
      ]
    },
    "kernelspec": {
      "name": "python3",
      "display_name": "Python 3"
    },
    "language_info": {
      "name": "python"
    }
  },
  "cells": [
    {
      "cell_type": "markdown",
      "source": [
        "### 다크넷 백본"
      ],
      "metadata": {
        "id": "-cjfQyl1TdKh"
      }
    },
    {
      "cell_type": "code",
      "source": [
        "import torch.nn as nn\n",
        "\n",
        "# Darknet-19 Backbone (YOLOv2의 기반 네트워크)\n",
        "class Darknet19(nn.Module):\n",
        "    def __init__(self):\n",
        "        super(Darknet19, self).__init__()\n",
        "        # Layer1: 416x416 -> 208x208\n",
        "        self.layer1 = nn.Sequential(\n",
        "            nn.Conv2d(3, 32, kernel_size=3, stride=1, padding=1, bias=False),\n",
        "            nn.BatchNorm2d(32),\n",
        "            nn.LeakyReLU(0.1),\n",
        "            nn.MaxPool2d(2, 2)\n",
        "        )\n",
        "        # Layer2: 208x208 -> 104x104\n",
        "        self.layer2 = nn.Sequential(\n",
        "            nn.Conv2d(32, 64, kernel_size=3, stride=1, padding=1, bias=False),\n",
        "            nn.BatchNorm2d(64),\n",
        "            nn.LeakyReLU(0.1),\n",
        "            nn.MaxPool2d(2, 2)\n",
        "        )\n",
        "        # Layer3\n",
        "        self.layer3 = nn.Sequential(\n",
        "            nn.Conv2d(64, 128, kernel_size=3, stride=1, padding=1, bias=False),\n",
        "            nn.BatchNorm2d(128),\n",
        "            nn.LeakyReLU(0.1)\n",
        "        )\n",
        "        # Layer4\n",
        "        self.layer4 = nn.Sequential(\n",
        "            nn.Conv2d(128, 64, kernel_size=1, stride=1, padding=0, bias=False),\n",
        "            nn.BatchNorm2d(64),\n",
        "            nn.LeakyReLU(0.1)\n",
        "        )\n",
        "        # Layer5: 104x104 -> 52x52\n",
        "        self.layer5 = nn.Sequential(\n",
        "            nn.Conv2d(64, 128, kernel_size=3, stride=1, padding=1, bias=False),\n",
        "            nn.BatchNorm2d(128),\n",
        "            nn.LeakyReLU(0.1),\n",
        "            nn.MaxPool2d(2, 2)\n",
        "        )\n",
        "        # Layer6\n",
        "        self.layer6 = nn.Sequential(\n",
        "            nn.Conv2d(128, 256, kernel_size=3, stride=1, padding=1, bias=False),\n",
        "            nn.BatchNorm2d(256),\n",
        "            nn.LeakyReLU(0.1)\n",
        "        )\n",
        "        # Layer7\n",
        "        self.layer7 = nn.Sequential(\n",
        "            nn.Conv2d(256, 128, kernel_size=1, stride=1, padding=0, bias=False),\n",
        "            nn.BatchNorm2d(128),\n",
        "            nn.LeakyReLU(0.1)\n",
        "        )\n",
        "        # Layer8: 52x52 -> 26x26\n",
        "        self.layer8 = nn.Sequential(\n",
        "            nn.Conv2d(128, 256, kernel_size=3, stride=1, padding=1, bias=False),\n",
        "            nn.BatchNorm2d(256),\n",
        "            nn.LeakyReLU(0.1),\n",
        "            nn.MaxPool2d(2, 2)\n",
        "        )\n",
        "        # Layer9: 26x26, 이 시점의 출력(512채널)로 passthrough 사용\n",
        "        self.layer9 = nn.Sequential(\n",
        "            nn.Conv2d(256, 512, kernel_size=3, stride=1, padding=1, bias=False),\n",
        "            nn.BatchNorm2d(512),\n",
        "            nn.LeakyReLU(0.1)\n",
        "        )\n",
        "        # Layer10\n",
        "        self.layer10 = nn.Sequential(\n",
        "            nn.Conv2d(512, 256, kernel_size=1, stride=1, padding=0, bias=False),\n",
        "            nn.BatchNorm2d(256),\n",
        "            nn.LeakyReLU(0.1)\n",
        "        )\n",
        "        # Layer11\n",
        "        self.layer11 = nn.Sequential(\n",
        "            nn.Conv2d(256, 512, kernel_size=3, stride=1, padding=1, bias=False),\n",
        "            nn.BatchNorm2d(512),\n",
        "            nn.LeakyReLU(0.1)\n",
        "        )\n",
        "        # Layer12\n",
        "        self.layer12 = nn.Sequential(\n",
        "            nn.Conv2d(512, 256, kernel_size=1, stride=1, padding=0, bias=False),\n",
        "            nn.BatchNorm2d(256),\n",
        "            nn.LeakyReLU(0.1)\n",
        "        )\n",
        "        # Layer13: 26x26 -> 13x13\n",
        "        self.layer13 = nn.Sequential(\n",
        "            nn.Conv2d(256, 512, kernel_size=3, stride=1, padding=1, bias=False),\n",
        "            nn.BatchNorm2d(512),\n",
        "            nn.LeakyReLU(0.1),\n",
        "            nn.MaxPool2d(2, 2)\n",
        "        )\n",
        "        # Layer14\n",
        "        self.layer14 = nn.Sequential(\n",
        "            nn.Conv2d(512, 1024, kernel_size=3, stride=1, padding=1, bias=False),\n",
        "            nn.BatchNorm2d(1024),\n",
        "            nn.LeakyReLU(0.1)\n",
        "        )\n",
        "        # Layer15\n",
        "        self.layer15 = nn.Sequential(\n",
        "            nn.Conv2d(1024, 512, kernel_size=1, stride=1, padding=0, bias=False),\n",
        "            nn.BatchNorm2d(512),\n",
        "            nn.LeakyReLU(0.1)\n",
        "        )\n",
        "        # Layer16\n",
        "        self.layer16 = nn.Sequential(\n",
        "            nn.Conv2d(512, 1024, kernel_size=3, stride=1, padding=1, bias=False),\n",
        "            nn.BatchNorm2d(1024),\n",
        "            nn.LeakyReLU(0.1)\n",
        "        )\n",
        "        # Layer17\n",
        "        self.layer17 = nn.Sequential(\n",
        "            nn.Conv2d(1024, 512, kernel_size=1, stride=1, padding=0, bias=False),\n",
        "            nn.BatchNorm2d(512),\n",
        "            nn.LeakyReLU(0.1)\n",
        "        )\n",
        "        # Layer18\n",
        "        self.layer18 = nn.Sequential(\n",
        "            nn.Conv2d(512, 1024, kernel_size=3, stride=1, padding=1, bias=False),\n",
        "            nn.BatchNorm2d(1024),\n",
        "            nn.LeakyReLU(0.1)\n",
        "        )\n",
        "\n",
        "    def forward(self, x):\n",
        "        x = self.layer1(x)   # ~[batch, 32, 208, 208]\n",
        "        x = self.layer2(x)   # ~[batch, 64, 104, 104]\n",
        "        x = self.layer3(x)   # ~[batch, 128, 104, 104]\n",
        "        x = self.layer4(x)   # ~[batch, 64, 104, 104]\n",
        "        x = self.layer5(x)   # ~[batch, 128, 52, 52]\n",
        "        x = self.layer6(x)   # ~[batch, 256, 52, 52]\n",
        "        x = self.layer7(x)   # ~[batch, 128, 52, 52]\n",
        "        x = self.layer8(x)   # ~[batch, 256, 26, 26]\n",
        "        x = self.layer9(x)   # ~[batch, 512, 26, 26] -> passthrough\n",
        "        passthrough = x    # 저장 (나중에 연결)\n",
        "        x = self.layer10(x)  # ~[batch, 256, 26, 26]\n",
        "        x = self.layer11(x)  # ~[batch, 512, 26, 26]\n",
        "        x = self.layer12(x)  # ~[batch, 256, 26, 26]\n",
        "        x = self.layer13(x)  # ~[batch, 512, 13, 13]\n",
        "        x = self.layer14(x)  # ~[batch, 1024, 13, 13]\n",
        "        x = self.layer15(x)  # ~[batch, 512, 13, 13]\n",
        "        x = self.layer16(x)  # ~[batch, 1024, 13, 13]\n",
        "        x = self.layer17(x)  # ~[batch, 512, 13, 13]\n",
        "        x = self.layer18(x)  # ~[batch, 1024, 13, 13]\n",
        "        return x, passthrough"
      ],
      "metadata": {
        "id": "KpawCBasTbHh"
      },
      "execution_count": 35,
      "outputs": []
    },
    {
      "cell_type": "code",
      "source": [
        "from pathlib import Path\n",
        "\n",
        "def load_model(model, name):\n",
        "    device = torch.device('cuda' if torch.cuda.is_available() else 'cpu')\n",
        "    ckpt_file = Path(f'./models/{name}.pth')\n",
        "    if ckpt_file.is_file():\n",
        "        state = torch.load(ckpt_file, map_location=device)\n",
        "        model.load_state_dict(state)\n",
        "        print(f\"Loaded checkpoint from {ckpt_file}\")\n",
        "    else:\n",
        "        print(f\"No checkpoint at {ckpt_file}, skipping load\")\n",
        "        input_file = Path(f'/kaggle/input/modelpth/{name}.pth')\n",
        "        if input_file.is_file():\n",
        "            state = torch.load(input_file, map_location=device)\n",
        "            model.load_state_dict(state)\n",
        "            print(f\"Loaded input from {input_file}\")\n",
        "        else:\n",
        "            print(f\"No loaded input at {ckpt_file}, skipping load\")\n",
        "    def save_model():\n",
        "        os.makedirs('./models', exist_ok=True)\n",
        "        torch.save(model.state_dict(), ckpt_file)\n",
        "    return save_model\n"
      ],
      "metadata": {
        "id": "Bc11KByU2PAm"
      },
      "execution_count": 37,
      "outputs": []
    },
    {
      "cell_type": "markdown",
      "source": [
        "### 샘플 Coco Dataset 준비"
      ],
      "metadata": {
        "id": "JMzrVUd_eeFZ"
      }
    },
    {
      "cell_type": "code",
      "source": [
        "!pip install kaggle --upgrade\n",
        "import os\n",
        "import json\n",
        "import torch\n",
        "import kagglehub\n",
        "from PIL import Image, ImageOps\n",
        "from torch.utils.data import Dataset\n",
        "from torchvision import transforms\n",
        "from torch.utils.data import DataLoader, random_split\n",
        "\n",
        "path = kagglehub.dataset_download('s076923/pytorch-transformer')\n",
        "root_path = os.path.join(path, 'datasets', 'coco')\n",
        "print('path: ', path)\n",
        "print('root_path: ', root_path)\n",
        "print(os.listdir(root_path))\n",
        "\n",
        "class Config:\n",
        "    IMG_DIM           = 416\n",
        "    NUM_CLASSES       = 3\n",
        "    ANCHORS           = (\n",
        "        (1.08, 1.19),\n",
        "        (3.42, 4.41),\n",
        "        (6.63, 11.38),\n",
        "        (9.42, 5.11),\n",
        "        (16.62, 10.52)\n",
        "    )\n",
        "    GRID_SIZE         = 13\n",
        "\n",
        "cfg = Config()\n",
        "\n",
        "# coco 데이터셋의 json 정보를 파싱하기 위한 클래스\n",
        "class CustomCOCO:\n",
        "    def __init__(self, annotation_file):\n",
        "\n",
        "        # JSON 파일을 읽어서 데이터를 불러온다.\n",
        "        with open(annotation_file, 'r') as f: # w는 쓰는거, a: 붙여쓰기, wd: 바이너리 읽기\n",
        "            self.data = json.load(f)\n",
        "\n",
        "        # 이미지 정보를 이미지 'id'를 키로 하는 dict로 저장\n",
        "        self.images = {img['id']: img for img in self.data.get('images', [])}\n",
        "\n",
        "        # Annotation 정보를 이미지 'id'로 그룹화\n",
        "        self.annotation = {}\n",
        "        for ann in self.data.get('annotations', []):\n",
        "            img_id = ann['image_id']\n",
        "            if img_id not in self.annotation:\n",
        "                self.annotation[img_id] = []\n",
        "            self.annotation[img_id].append(ann)\n",
        "\n",
        "        # 카테고리 정보를 cat 'id'를 키로 하는 dict로 저장\n",
        "        self.cats = {cat['id']: cat for cat in self.data.get('categories', [])}\n",
        "\n",
        "    # 이미지 id들을 통해서 이미지 정보들을 불러온다.\n",
        "    def load_imgs(self, ids):\n",
        "        return [self.images[i] for i in ids if i in self.images]\n",
        "\n",
        "    # 이미지 id를 통해서 annotation id를 불러온다.\n",
        "    def get_ann_ids(self, imgIds):\n",
        "        ann_ids = []\n",
        "        for img_id in imgIds:\n",
        "            if img_id in self.annotation:\n",
        "                ann_ids.extend(ann['id'] for ann in self.annotation[img_id])\n",
        "        return ann_ids\n",
        "\n",
        "    # Annotation id를 이용하여 셀제 annotation 정보를 불려온다.\n",
        "    def load_anns(self, annIds):\n",
        "        anns = []\n",
        "        for ann in self.data.get('annotations', []):\n",
        "            if ann['id'] in annIds:\n",
        "                anns.append(ann)\n",
        "        return anns\n",
        "\n",
        "def letterbox(img, size, color=(114,114,114)):\n",
        "    # img: PIL.Image, size: int or (w,h)\n",
        "    # method=BICUBIC, fill color 회색 패딩\n",
        "    return ImageOps.pad(img, (size, size), method=Image.BICUBIC, color=color)\n",
        "\n",
        "class CoCoDataset(Dataset):\n",
        "    def __init__(self, root, train, transform = None):\n",
        "        super().__init__()\n",
        "        # root: 데이터셋 위치(최상위)\n",
        "        # train: 학습 데이터(True), 검증데이터(False)\n",
        "        dir = 'train' if train else 'val'\n",
        "\n",
        "        # anno file의 위치를 지정\n",
        "        annotation_file = os.path.join(root, 'annotations', f'{dir}_annotations.json')\n",
        "\n",
        "        # CustomCOCO 클래스 생성\n",
        "        self.coco = CustomCOCO(annotation_file=annotation_file)\n",
        "\n",
        "        # iamge file 위치\n",
        "        self.image_path = os.path.join(root, dir)\n",
        "\n",
        "        self.transform = transform # Corrected typo\n",
        "\n",
        "        # coco 데이터셋의 카테고리 정보를 저장\n",
        "        # 0버은 배경정보로 지정\n",
        "        self.categories = {0: 'background'}\n",
        "        for cat_id, cat in self.coco.cats.items():\n",
        "            self.categories[cat_id] = cat['name']\n",
        "\n",
        "        # 이미지와 어노테이션 정보를 로드 --> data 리스트에 저장\n",
        "        self.data = self._load_data()\n",
        "\n",
        "    def _load_data(self):\n",
        "        data = []\n",
        "        for _id, img_info in self.coco.images.items():\n",
        "            # 이미지 파일 가져오기\n",
        "            file_name = img_info['file_name']\n",
        "            # 이미지 파일의 전체 경로 가져오기\n",
        "            image_path = os.path.join(self.image_path, file_name)\n",
        "            # PIL을 사용해서 이미지를 로드 --> RGB\n",
        "            image = Image.open(image_path).convert('RGB') # Corrected typo\n",
        "            image = letterbox(image, 416)\n",
        "\n",
        "            boxes = []\n",
        "            labels = []\n",
        "            anns = self.coco.annotation.get(_id, []) # Corrected from set.data to self.coco.annotation\n",
        "            for ann in anns:\n",
        "                x, y, w, h = ann['bbox']\n",
        "                boxes.append([x, y, x+w, y+h]) # Added list brackets\n",
        "                labels.append(ann['category_id'])\n",
        "\n",
        "            # target 값들을 dict 형태로 만들어서 전달\n",
        "            target = {\n",
        "                'image_id': torch.LongTensor([_id]), # Changed to a list to match expected input\n",
        "                'boxes': torch.FloatTensor(boxes),\n",
        "                'labels': torch.LongTensor(labels)\n",
        "            }\n",
        "\n",
        "            data.append((image, target))\n",
        "        return data\n",
        "\n",
        "    def __len__(self):\n",
        "        return len(self.data)\n",
        "\n",
        "    def __getitem__(self, index):\n",
        "        image, target = self.data[index]\n",
        "        if self.transform:\n",
        "            image = self.transform(image)\n",
        "        return image, target\n",
        "\n",
        "\n",
        "# 배치 데이터를 생성할 때, 각 배치마다 데이터를 튜플 형태로 묶어주는 함수\n",
        "# coco 데이터 셋은 이미지 내에 여러 객체 정보가 담길 수 있으므로, 데이터의 길이가 다를 수 있음.\n",
        "def collator(batch):\n",
        "    def build_targets(\n",
        "        boxes,      # Tensor[N,4] in normalized format [cx, cy, w, h], 0~1\n",
        "        labels,     # Tensor[N] class indices (0-based)\n",
        "        anchors,    # List of (pw, ph) in absolute pixel units\n",
        "        S,          # Grid size (e.g. 13)\n",
        "        C,          # Number of classes\n",
        "        img_dim     # Input image size in pixels (e.g. 416)\n",
        "    ):\n",
        "        \"\"\"\n",
        "        Returns:\n",
        "        target : Tensor[S, S, A*(5 + C)]\n",
        "        \"\"\"\n",
        "        device = boxes.device\n",
        "        A = len(anchors)\n",
        "\n",
        "        # 1) 초기화: [S, S, A, 5+C]\n",
        "        target = torch.zeros((S, S, A, 5 + C), device=device)\n",
        "\n",
        "        # 2) 앵커를 정규화 (0~1)\n",
        "        anchors = torch.tensor(anchors, device=device)          # [A,2] in px\n",
        "        anchor_norm = anchors / img_dim                         # [A,2] in norm\n",
        "\n",
        "        # 3) 각 GT 박스별로 가장 IoU가 높은 앵커에 할당\n",
        "        for (cx, cy, w, h), cls in zip(boxes, labels):\n",
        "            # 3-1) 해당 그리드 셀 좌표\n",
        "            gx, gy = cx * S, cy * S\n",
        "            i, j   = int(gx), int(gy)\n",
        "            if i >= S: i = S - 1\n",
        "            if j >= S: j = S - 1\n",
        "\n",
        "            # 3-2) IoU 계산 (w×h 박스 vs A개 앵커)\n",
        "            box_wh   = torch.tensor([w, h], device=device)\n",
        "            inter    = (torch.min(box_wh, anchor_norm)  ).prod(dim=1)\n",
        "            union    = (box_wh.prod() + anchor_norm.prod(dim=1) - inter)\n",
        "            ious, a  = (inter / union).max(dim=0)        # a: best anchor index\n",
        "\n",
        "            # 3-3) 타깃 값 계산\n",
        "            #   tx = gx - i,   ty = gy - j\n",
        "            #   tw = log(w / anchor_w),  th = log(h / anchor_h)\n",
        "            tx = gx - i\n",
        "            ty = gy - j\n",
        "            tw = torch.log(w  / (anchor_norm[a, 0] + 1e-16))\n",
        "            th = torch.log(h  / (anchor_norm[a, 1] + 1e-16))\n",
        "\n",
        "            # print('boxes.shape: ', boxes.shape) # (1, 4)\n",
        "            # print('labels.shape: ', labels.shape) # (1,)\n",
        "            # print('target.shape zero: ', target.shape) # (13, 13, 5, 6)\n",
        "            # print('len(target[j, i, a]): ', len(target[j, i, a])) # 6\n",
        "            # print('cls: ', cls) #\n",
        "            # 3-4) 채우기\n",
        "            target[j, i, a, 0]     = tx\n",
        "            target[j, i, a, 1]     = ty\n",
        "            target[j, i, a, 2]     = tw\n",
        "            target[j, i, a, 3]     = th\n",
        "            target[j, i, a, 4]     = 1.0               # objectness\n",
        "            target[j, i, a, 5 + cls] = 1.0             # one-hot 클래스\n",
        "\n",
        "        # 4) 마지막 차원을 펼쳐서 [S, S, A*(5+C)] 로 리턴\n",
        "        return target.view(S, S, A * (5 + C))\n",
        "\n",
        "    def build_targets_from_meta(meta, anchors, S, C, img_dim):\n",
        "        \"\"\"\n",
        "        meta: dict with keys\n",
        "        - 'boxes': Tensor[N,4] in absolute coords [x_min, y_min, w, h]\n",
        "        - 'labels': Tensor[N] class indices (0-based)\n",
        "        anchors: list of (pw,ph) in pixels, length A\n",
        "        S: grid size (e.g. 13)\n",
        "        C: number of classes\n",
        "        img_dim: input image size in pixels (e.g. 416)\n",
        "\n",
        "        returns: Tensor of shape [S, S, A*(5 + C)]\n",
        "        \"\"\"\n",
        "        # 1) 절대 좌표 → [cx, cy, w, h] normalized (0~1)\n",
        "        boxes_abs = meta['boxes']   # [N,4]\n",
        "        labels    = meta['labels']  # [N]\n",
        "\n",
        "        # split\n",
        "        x_min, y_min, w_abs, h_abs = boxes_abs.unbind(dim=1)\n",
        "        cx = (x_min + w_abs / 2) / img_dim\n",
        "        cy = (y_min + h_abs / 2) / img_dim\n",
        "        w  = w_abs / img_dim\n",
        "        h  = h_abs / img_dim\n",
        "\n",
        "        boxes_norm = torch.stack([cx, cy, w, h], dim=1)  # [N,4]\n",
        "\n",
        "        # 2) build_targets 호출\n",
        "        #    build_targets 는 사전에 구현된 함수로,\n",
        "        #    boxes_norm, labels → [S, S, A*(5+C)] 타겟 생성\n",
        "        target = build_targets(\n",
        "            boxes_norm,\n",
        "            labels,\n",
        "            anchors=anchors,\n",
        "            S=S,\n",
        "            C=C,\n",
        "            img_dim=img_dim\n",
        "        )\n",
        "\n",
        "        return target\n",
        "\n",
        "    def yolov2_collator(batch):\n",
        "        \"\"\"\n",
        "        batch: list of (img_tensor, meta_dict)\n",
        "        meta_dict 예시: {'image_id':…, 'boxes':…, 'labels':…}\n",
        "        Returns:\n",
        "        imgs:   Tensor[B,3,H,W]\n",
        "        targets:Tensor[B,S,S,A*(5+C)]\n",
        "        metas:  list of meta_dicts length B\n",
        "        \"\"\"\n",
        "        imgs, metas = zip(*batch)\n",
        "        imgs = torch.stack(imgs, 0)\n",
        "\n",
        "        # meta -> YOLO target\n",
        "        targets = []\n",
        "        for meta in metas:\n",
        "            # meta['boxes'], meta['labels'] -> [S,S,A*(5+C)] target\n",
        "            # print('labels:', meta['labels'])\n",
        "            # labels = meta['labels']      # tensor([1,2,1, …])  <-- 1-based\n",
        "            # labels = labels - 1          # tensor([0,1,0, …])  <-- 0-based\n",
        "            # meta['labels'] = labels\n",
        "\n",
        "            tgt = build_targets_from_meta(meta, cfg.ANCHORS, cfg.GRID_SIZE, cfg.NUM_CLASSES, cfg.IMG_DIM)\n",
        "            targets.append(tgt)\n",
        "        targets = torch.stack(targets, 0)\n",
        "\n",
        "        return imgs, targets, metas #list(metas)\n",
        "\n",
        "    # images, targets = zip(*batch)\n",
        "    # images = torch.stack(images, dim=0) # tuple(B) of (3, 416, 416) -> (B, 3, 416, 416)\n",
        "    # return images, targets # targets is tuple(B) of tuple of object\n",
        "    return yolov2_collator(batch)\n",
        "\n",
        "transform = transforms.Compose([\n",
        "    transforms.PILToTensor(), # or ToTensor()?\n",
        "    transforms.ConvertImageDtype(dtype=torch.float)\n",
        "])\n",
        "full_dataset = CoCoDataset(root_path, train=True, transform=transform)\n",
        "dataset_size = len(full_dataset)\n",
        "val_size     = int(dataset_size * 0.2) # 20%\n",
        "train_size   = dataset_size - val_size # 80%\n",
        "train_dataset, val_dataset = random_split(full_dataset, [train_size, val_size])\n",
        "test_dataset = CoCoDataset(root_path, train=False, transform=transform)\n",
        "\n",
        "train_loader = DataLoader(train_dataset, batch_size=32, shuffle=True, drop_last=True, collate_fn=collator)\n",
        "val_loader = DataLoader(val_dataset, batch_size=4, drop_last=True, collate_fn=collator)\n",
        "test_loader = DataLoader(test_dataset, batch_size=1, drop_last=True, collate_fn=collator)\n",
        "\n",
        "print('Train size: ', len(train_dataset))\n",
        "print('Val size: ', len(val_dataset))\n",
        "print('Test size: ', len(test_dataset))"
      ],
      "metadata": {
        "colab": {
          "base_uri": "https://localhost:8080/"
        },
        "id": "CWF4Ddv0emjL",
        "outputId": "92f03e6d-0e28-4e61-9e9a-1fcc5ef7eb83"
      },
      "execution_count": 31,
      "outputs": [
        {
          "output_type": "stream",
          "name": "stdout",
          "text": [
            "Requirement already satisfied: kaggle in /usr/local/lib/python3.11/dist-packages (1.7.4.5)\n",
            "Requirement already satisfied: bleach in /usr/local/lib/python3.11/dist-packages (from kaggle) (6.2.0)\n",
            "Requirement already satisfied: certifi>=14.05.14 in /usr/local/lib/python3.11/dist-packages (from kaggle) (2025.7.14)\n",
            "Requirement already satisfied: charset-normalizer in /usr/local/lib/python3.11/dist-packages (from kaggle) (3.4.2)\n",
            "Requirement already satisfied: idna in /usr/local/lib/python3.11/dist-packages (from kaggle) (3.10)\n",
            "Requirement already satisfied: protobuf in /usr/local/lib/python3.11/dist-packages (from kaggle) (5.29.5)\n",
            "Requirement already satisfied: python-dateutil>=2.5.3 in /usr/local/lib/python3.11/dist-packages (from kaggle) (2.9.0.post0)\n",
            "Requirement already satisfied: python-slugify in /usr/local/lib/python3.11/dist-packages (from kaggle) (8.0.4)\n",
            "Requirement already satisfied: requests in /usr/local/lib/python3.11/dist-packages (from kaggle) (2.32.3)\n",
            "Requirement already satisfied: setuptools>=21.0.0 in /usr/local/lib/python3.11/dist-packages (from kaggle) (75.2.0)\n",
            "Requirement already satisfied: six>=1.10 in /usr/local/lib/python3.11/dist-packages (from kaggle) (1.17.0)\n",
            "Requirement already satisfied: text-unidecode in /usr/local/lib/python3.11/dist-packages (from kaggle) (1.3)\n",
            "Requirement already satisfied: tqdm in /usr/local/lib/python3.11/dist-packages (from kaggle) (4.67.1)\n",
            "Requirement already satisfied: urllib3>=1.15.1 in /usr/local/lib/python3.11/dist-packages (from kaggle) (2.4.0)\n",
            "Requirement already satisfied: webencodings in /usr/local/lib/python3.11/dist-packages (from kaggle) (0.5.1)\n",
            "path:  /kaggle/input/pytorch-transformer\n",
            "root_path:  /kaggle/input/pytorch-transformer/datasets/coco\n",
            "['annotations', 'val', 'train']\n",
            "Train size:  1945\n",
            "Val size:  486\n",
            "Test size:  181\n"
          ]
        }
      ]
    },
    {
      "cell_type": "markdown",
      "source": [
        "### YOLOv2 구현체"
      ],
      "metadata": {
        "id": "y5szprVqThNI"
      }
    },
    {
      "cell_type": "code",
      "execution_count": 38,
      "metadata": {
        "colab": {
          "base_uri": "https://localhost:8080/"
        },
        "id": "TH5S7tokA0dH",
        "outputId": "efb309b3-7fce-4556-e593-9b3f006f4b80"
      },
      "outputs": [
        {
          "output_type": "stream",
          "name": "stdout",
          "text": [
            "Loaded checkpoint from models/modelv2.pth\n"
          ]
        },
        {
          "output_type": "stream",
          "name": "stderr",
          "text": [
            "Train Batch: 100%|██████████| 60/60 [00:37<00:00,  1.60it/s]\n"
          ]
        },
        {
          "output_type": "stream",
          "name": "stdout",
          "text": [
            "Epoch 01 | Train Loss: 130.6341 | Val Loss: 145.6390\n"
          ]
        },
        {
          "output_type": "stream",
          "name": "stderr",
          "text": [
            "Train Batch: 100%|██████████| 60/60 [00:36<00:00,  1.65it/s]\n"
          ]
        },
        {
          "output_type": "stream",
          "name": "stdout",
          "text": [
            "Epoch 02 | Train Loss: 121.9704 | Val Loss: 119.0284\n"
          ]
        },
        {
          "output_type": "stream",
          "name": "stderr",
          "text": [
            "Train Batch: 100%|██████████| 60/60 [00:36<00:00,  1.65it/s]\n"
          ]
        },
        {
          "output_type": "stream",
          "name": "stdout",
          "text": [
            "Epoch 03 | Train Loss: 119.2435 | Val Loss: 112.1632\n"
          ]
        },
        {
          "output_type": "stream",
          "name": "stderr",
          "text": [
            "Train Batch: 100%|██████████| 60/60 [00:36<00:00,  1.65it/s]\n"
          ]
        },
        {
          "output_type": "stream",
          "name": "stdout",
          "text": [
            "Epoch 04 | Train Loss: 120.2773 | Val Loss: 115.3631\n"
          ]
        },
        {
          "output_type": "stream",
          "name": "stderr",
          "text": [
            "Train Batch: 100%|██████████| 60/60 [00:36<00:00,  1.65it/s]\n"
          ]
        },
        {
          "output_type": "stream",
          "name": "stdout",
          "text": [
            "Epoch 05 | Train Loss: 123.0385 | Val Loss: 113.3435\n"
          ]
        },
        {
          "output_type": "stream",
          "name": "stderr",
          "text": [
            "Train Batch: 100%|██████████| 60/60 [00:36<00:00,  1.65it/s]\n"
          ]
        },
        {
          "output_type": "stream",
          "name": "stdout",
          "text": [
            "Epoch 06 | Train Loss: 120.6941 | Val Loss: 128.5713\n"
          ]
        },
        {
          "output_type": "stream",
          "name": "stderr",
          "text": [
            "Train Batch: 100%|██████████| 60/60 [00:36<00:00,  1.65it/s]\n"
          ]
        },
        {
          "output_type": "stream",
          "name": "stdout",
          "text": [
            "Epoch 07 | Train Loss: 118.4508 | Val Loss: 112.5119\n"
          ]
        },
        {
          "output_type": "stream",
          "name": "stderr",
          "text": [
            "Train Batch: 100%|██████████| 60/60 [00:36<00:00,  1.65it/s]\n"
          ]
        },
        {
          "output_type": "stream",
          "name": "stdout",
          "text": [
            "Epoch 08 | Train Loss: 122.8625 | Val Loss: 399.3885\n"
          ]
        },
        {
          "output_type": "stream",
          "name": "stderr",
          "text": [
            "Train Batch: 100%|██████████| 60/60 [00:36<00:00,  1.65it/s]\n"
          ]
        },
        {
          "output_type": "stream",
          "name": "stdout",
          "text": [
            "Epoch 09 | Train Loss: 117.1518 | Val Loss: 110.8250\n"
          ]
        },
        {
          "output_type": "stream",
          "name": "stderr",
          "text": [
            "Train Batch: 100%|██████████| 60/60 [00:36<00:00,  1.66it/s]\n"
          ]
        },
        {
          "output_type": "stream",
          "name": "stdout",
          "text": [
            "Epoch 10 | Train Loss: 116.0083 | Val Loss: 110.3916\n"
          ]
        },
        {
          "output_type": "stream",
          "name": "stderr",
          "text": [
            "Train Batch: 100%|██████████| 60/60 [00:36<00:00,  1.65it/s]\n"
          ]
        },
        {
          "output_type": "stream",
          "name": "stdout",
          "text": [
            "Epoch 11 | Train Loss: 114.9588 | Val Loss: 109.5797\n"
          ]
        },
        {
          "output_type": "stream",
          "name": "stderr",
          "text": [
            "Train Batch: 100%|██████████| 60/60 [00:36<00:00,  1.66it/s]\n"
          ]
        },
        {
          "output_type": "stream",
          "name": "stdout",
          "text": [
            "Epoch 12 | Train Loss: 114.9296 | Val Loss: 109.4681\n"
          ]
        },
        {
          "output_type": "stream",
          "name": "stderr",
          "text": [
            "Train Batch: 100%|██████████| 60/60 [00:36<00:00,  1.65it/s]\n"
          ]
        },
        {
          "output_type": "stream",
          "name": "stdout",
          "text": [
            "Epoch 13 | Train Loss: 114.0660 | Val Loss: 109.2377\n"
          ]
        },
        {
          "output_type": "stream",
          "name": "stderr",
          "text": [
            "Train Batch: 100%|██████████| 60/60 [00:36<00:00,  1.66it/s]\n"
          ]
        },
        {
          "output_type": "stream",
          "name": "stdout",
          "text": [
            "Epoch 14 | Train Loss: 112.7717 | Val Loss: 109.2329\n"
          ]
        },
        {
          "output_type": "stream",
          "name": "stderr",
          "text": [
            "Train Batch: 100%|██████████| 60/60 [00:36<00:00,  1.65it/s]\n"
          ]
        },
        {
          "output_type": "stream",
          "name": "stdout",
          "text": [
            "Epoch 15 | Train Loss: 113.3611 | Val Loss: 109.1711\n"
          ]
        },
        {
          "output_type": "stream",
          "name": "stderr",
          "text": [
            "Train Batch: 100%|██████████| 60/60 [00:36<00:00,  1.66it/s]\n"
          ]
        },
        {
          "output_type": "stream",
          "name": "stdout",
          "text": [
            "Epoch 16 | Train Loss: 113.7793 | Val Loss: 109.2195\n"
          ]
        },
        {
          "output_type": "stream",
          "name": "stderr",
          "text": [
            "Train Batch: 100%|██████████| 60/60 [00:36<00:00,  1.65it/s]\n"
          ]
        },
        {
          "output_type": "stream",
          "name": "stdout",
          "text": [
            "Epoch 17 | Train Loss: 113.5828 | Val Loss: 109.1873\n"
          ]
        },
        {
          "output_type": "stream",
          "name": "stderr",
          "text": [
            "Train Batch: 100%|██████████| 60/60 [00:36<00:00,  1.66it/s]\n"
          ]
        },
        {
          "output_type": "stream",
          "name": "stdout",
          "text": [
            "Epoch 18 | Train Loss: 113.9902 | Val Loss: 109.0364\n"
          ]
        },
        {
          "output_type": "stream",
          "name": "stderr",
          "text": [
            "Train Batch: 100%|██████████| 60/60 [00:36<00:00,  1.65it/s]\n"
          ]
        },
        {
          "output_type": "stream",
          "name": "stdout",
          "text": [
            "Epoch 19 | Train Loss: 112.2570 | Val Loss: 109.0405\n"
          ]
        },
        {
          "output_type": "stream",
          "name": "stderr",
          "text": [
            "Train Batch: 100%|██████████| 60/60 [00:36<00:00,  1.64it/s]\n"
          ]
        },
        {
          "output_type": "stream",
          "name": "stdout",
          "text": [
            "Epoch 20 | Train Loss: 112.7757 | Val Loss: 108.9433\n"
          ]
        },
        {
          "output_type": "stream",
          "name": "stderr",
          "text": [
            "Train Batch: 100%|██████████| 60/60 [00:36<00:00,  1.65it/s]\n"
          ]
        },
        {
          "output_type": "stream",
          "name": "stdout",
          "text": [
            "Epoch 21 | Train Loss: 111.6370 | Val Loss: 108.9215\n"
          ]
        },
        {
          "output_type": "stream",
          "name": "stderr",
          "text": [
            "Train Batch: 100%|██████████| 60/60 [00:36<00:00,  1.65it/s]\n"
          ]
        },
        {
          "output_type": "stream",
          "name": "stdout",
          "text": [
            "Epoch 22 | Train Loss: 112.7845 | Val Loss: 109.0208\n"
          ]
        },
        {
          "output_type": "stream",
          "name": "stderr",
          "text": [
            "Train Batch: 100%|██████████| 60/60 [00:36<00:00,  1.65it/s]\n"
          ]
        },
        {
          "output_type": "stream",
          "name": "stdout",
          "text": [
            "Epoch 23 | Train Loss: 112.0847 | Val Loss: 108.9598\n"
          ]
        },
        {
          "output_type": "stream",
          "name": "stderr",
          "text": [
            "Train Batch: 100%|██████████| 60/60 [00:36<00:00,  1.66it/s]\n"
          ]
        },
        {
          "output_type": "stream",
          "name": "stdout",
          "text": [
            "Epoch 24 | Train Loss: 112.9963 | Val Loss: 108.9221\n"
          ]
        },
        {
          "output_type": "stream",
          "name": "stderr",
          "text": [
            "Train Batch: 100%|██████████| 60/60 [00:36<00:00,  1.65it/s]\n"
          ]
        },
        {
          "output_type": "stream",
          "name": "stdout",
          "text": [
            "Epoch 25 | Train Loss: 112.2359 | Val Loss: 108.8950\n"
          ]
        },
        {
          "output_type": "stream",
          "name": "stderr",
          "text": [
            "Train Batch: 100%|██████████| 60/60 [00:36<00:00,  1.65it/s]\n"
          ]
        },
        {
          "output_type": "stream",
          "name": "stdout",
          "text": [
            "Epoch 26 | Train Loss: 111.9862 | Val Loss: 108.7552\n"
          ]
        },
        {
          "output_type": "stream",
          "name": "stderr",
          "text": [
            "Train Batch: 100%|██████████| 60/60 [00:36<00:00,  1.65it/s]\n"
          ]
        },
        {
          "output_type": "stream",
          "name": "stdout",
          "text": [
            "Epoch 27 | Train Loss: 112.7318 | Val Loss: 108.8678\n"
          ]
        },
        {
          "output_type": "stream",
          "name": "stderr",
          "text": [
            "Train Batch: 100%|██████████| 60/60 [00:36<00:00,  1.65it/s]\n"
          ]
        },
        {
          "output_type": "stream",
          "name": "stdout",
          "text": [
            "Epoch 28 | Train Loss: 111.9241 | Val Loss: 108.8542\n"
          ]
        },
        {
          "output_type": "stream",
          "name": "stderr",
          "text": [
            "Train Batch: 100%|██████████| 60/60 [00:36<00:00,  1.65it/s]\n"
          ]
        },
        {
          "output_type": "stream",
          "name": "stdout",
          "text": [
            "Epoch 29 | Train Loss: 112.4705 | Val Loss: 108.7758\n"
          ]
        },
        {
          "output_type": "stream",
          "name": "stderr",
          "text": [
            "Train Batch: 100%|██████████| 60/60 [00:36<00:00,  1.66it/s]\n"
          ]
        },
        {
          "output_type": "stream",
          "name": "stdout",
          "text": [
            "Epoch 30 | Train Loss: 112.9314 | Val Loss: 108.8009\n"
          ]
        },
        {
          "output_type": "stream",
          "name": "stderr",
          "text": [
            "Train Batch: 100%|██████████| 60/60 [00:36<00:00,  1.65it/s]\n"
          ]
        },
        {
          "output_type": "stream",
          "name": "stdout",
          "text": [
            "Epoch 31 | Train Loss: 112.8981 | Val Loss: 108.7906\n"
          ]
        },
        {
          "output_type": "stream",
          "name": "stderr",
          "text": [
            "Train Batch: 100%|██████████| 60/60 [00:36<00:00,  1.65it/s]\n"
          ]
        },
        {
          "output_type": "stream",
          "name": "stdout",
          "text": [
            "Epoch 32 | Train Loss: 112.9997 | Val Loss: 108.8010\n"
          ]
        },
        {
          "output_type": "stream",
          "name": "stderr",
          "text": [
            "Train Batch: 100%|██████████| 60/60 [00:36<00:00,  1.65it/s]\n"
          ]
        },
        {
          "output_type": "stream",
          "name": "stdout",
          "text": [
            "Epoch 33 | Train Loss: 112.1057 | Val Loss: 108.8672\n"
          ]
        },
        {
          "output_type": "stream",
          "name": "stderr",
          "text": [
            "Train Batch: 100%|██████████| 60/60 [00:36<00:00,  1.65it/s]\n"
          ]
        },
        {
          "output_type": "stream",
          "name": "stdout",
          "text": [
            "Epoch 34 | Train Loss: 112.5401 | Val Loss: 108.7956\n"
          ]
        },
        {
          "output_type": "stream",
          "name": "stderr",
          "text": [
            "Train Batch: 100%|██████████| 60/60 [00:36<00:00,  1.65it/s]\n"
          ]
        },
        {
          "output_type": "stream",
          "name": "stdout",
          "text": [
            "Epoch 35 | Train Loss: 111.3291 | Val Loss: 108.8168\n"
          ]
        },
        {
          "output_type": "stream",
          "name": "stderr",
          "text": [
            "Train Batch: 100%|██████████| 60/60 [00:36<00:00,  1.65it/s]\n"
          ]
        },
        {
          "output_type": "stream",
          "name": "stdout",
          "text": [
            "Epoch 36 | Train Loss: 111.7028 | Val Loss: 108.8817\n"
          ]
        },
        {
          "output_type": "stream",
          "name": "stderr",
          "text": [
            "Train Batch: 100%|██████████| 60/60 [00:36<00:00,  1.65it/s]\n"
          ]
        },
        {
          "output_type": "stream",
          "name": "stdout",
          "text": [
            "Epoch 37 | Train Loss: 111.3690 | Val Loss: 108.7483\n"
          ]
        },
        {
          "output_type": "stream",
          "name": "stderr",
          "text": [
            "Train Batch: 100%|██████████| 60/60 [00:36<00:00,  1.66it/s]\n"
          ]
        },
        {
          "output_type": "stream",
          "name": "stdout",
          "text": [
            "Epoch 38 | Train Loss: 112.4691 | Val Loss: 108.8110\n"
          ]
        },
        {
          "output_type": "stream",
          "name": "stderr",
          "text": [
            "Train Batch: 100%|██████████| 60/60 [00:36<00:00,  1.65it/s]\n"
          ]
        },
        {
          "output_type": "stream",
          "name": "stdout",
          "text": [
            "Epoch 39 | Train Loss: 113.2897 | Val Loss: 108.8943\n"
          ]
        },
        {
          "output_type": "stream",
          "name": "stderr",
          "text": [
            "Train Batch: 100%|██████████| 60/60 [00:36<00:00,  1.66it/s]\n"
          ]
        },
        {
          "output_type": "stream",
          "name": "stdout",
          "text": [
            "Epoch 40 | Train Loss: 112.6316 | Val Loss: 108.8238\n"
          ]
        },
        {
          "output_type": "stream",
          "name": "stderr",
          "text": [
            "Train Batch: 100%|██████████| 60/60 [00:36<00:00,  1.65it/s]\n"
          ]
        },
        {
          "output_type": "stream",
          "name": "stdout",
          "text": [
            "Epoch 41 | Train Loss: 112.8776 | Val Loss: 108.7747\n"
          ]
        },
        {
          "output_type": "stream",
          "name": "stderr",
          "text": [
            "Train Batch: 100%|██████████| 60/60 [00:36<00:00,  1.66it/s]\n"
          ]
        },
        {
          "output_type": "stream",
          "name": "stdout",
          "text": [
            "Epoch 42 | Train Loss: 113.3237 | Val Loss: 108.7712\n"
          ]
        },
        {
          "output_type": "stream",
          "name": "stderr",
          "text": [
            "Train Batch: 100%|██████████| 60/60 [00:36<00:00,  1.65it/s]\n"
          ]
        },
        {
          "output_type": "stream",
          "name": "stdout",
          "text": [
            "Epoch 43 | Train Loss: 112.7705 | Val Loss: 108.8554\n"
          ]
        },
        {
          "output_type": "stream",
          "name": "stderr",
          "text": [
            "Train Batch: 100%|██████████| 60/60 [00:36<00:00,  1.66it/s]\n"
          ]
        },
        {
          "output_type": "stream",
          "name": "stdout",
          "text": [
            "Epoch 44 | Train Loss: 112.6602 | Val Loss: 108.8007\n"
          ]
        },
        {
          "output_type": "stream",
          "name": "stderr",
          "text": [
            "Train Batch: 100%|██████████| 60/60 [00:36<00:00,  1.66it/s]\n"
          ]
        },
        {
          "output_type": "stream",
          "name": "stdout",
          "text": [
            "Epoch 45 | Train Loss: 112.5714 | Val Loss: 108.8098\n"
          ]
        },
        {
          "output_type": "stream",
          "name": "stderr",
          "text": [
            "Train Batch: 100%|██████████| 60/60 [00:36<00:00,  1.65it/s]\n"
          ]
        },
        {
          "output_type": "stream",
          "name": "stdout",
          "text": [
            "Epoch 46 | Train Loss: 113.1823 | Val Loss: 108.7861\n"
          ]
        },
        {
          "output_type": "stream",
          "name": "stderr",
          "text": [
            "Train Batch: 100%|██████████| 60/60 [00:36<00:00,  1.65it/s]\n"
          ]
        },
        {
          "output_type": "stream",
          "name": "stdout",
          "text": [
            "Epoch 47 | Train Loss: 113.2293 | Val Loss: 108.7781\n"
          ]
        },
        {
          "output_type": "stream",
          "name": "stderr",
          "text": [
            "Train Batch: 100%|██████████| 60/60 [00:36<00:00,  1.66it/s]\n"
          ]
        },
        {
          "output_type": "stream",
          "name": "stdout",
          "text": [
            "Epoch 48 | Train Loss: 111.5321 | Val Loss: 108.8277\n"
          ]
        },
        {
          "output_type": "stream",
          "name": "stderr",
          "text": [
            "Train Batch: 100%|██████████| 60/60 [00:36<00:00,  1.66it/s]\n"
          ]
        },
        {
          "output_type": "stream",
          "name": "stdout",
          "text": [
            "Epoch 49 | Train Loss: 112.2394 | Val Loss: 108.8035\n"
          ]
        },
        {
          "output_type": "stream",
          "name": "stderr",
          "text": [
            "Train Batch: 100%|██████████| 60/60 [00:36<00:00,  1.66it/s]\n"
          ]
        },
        {
          "output_type": "stream",
          "name": "stdout",
          "text": [
            "Epoch 50 | Train Loss: 112.0711 | Val Loss: 108.7961\n"
          ]
        },
        {
          "output_type": "stream",
          "name": "stderr",
          "text": [
            "Train Batch: 100%|██████████| 60/60 [00:36<00:00,  1.65it/s]\n"
          ]
        },
        {
          "output_type": "stream",
          "name": "stdout",
          "text": [
            "Epoch 51 | Train Loss: 112.4389 | Val Loss: 108.7587\n"
          ]
        },
        {
          "output_type": "stream",
          "name": "stderr",
          "text": [
            "Train Batch: 100%|██████████| 60/60 [00:36<00:00,  1.65it/s]\n"
          ]
        },
        {
          "output_type": "stream",
          "name": "stdout",
          "text": [
            "Epoch 52 | Train Loss: 112.4722 | Val Loss: 108.7527\n"
          ]
        },
        {
          "output_type": "stream",
          "name": "stderr",
          "text": [
            "Train Batch: 100%|██████████| 60/60 [00:36<00:00,  1.66it/s]\n"
          ]
        },
        {
          "output_type": "stream",
          "name": "stdout",
          "text": [
            "Epoch 53 | Train Loss: 112.5266 | Val Loss: 108.7821\n"
          ]
        },
        {
          "output_type": "stream",
          "name": "stderr",
          "text": [
            "Train Batch: 100%|██████████| 60/60 [00:36<00:00,  1.65it/s]\n"
          ]
        },
        {
          "output_type": "stream",
          "name": "stdout",
          "text": [
            "Epoch 54 | Train Loss: 111.6974 | Val Loss: 108.7980\n"
          ]
        },
        {
          "output_type": "stream",
          "name": "stderr",
          "text": [
            "Train Batch: 100%|██████████| 60/60 [00:36<00:00,  1.66it/s]\n"
          ]
        },
        {
          "output_type": "stream",
          "name": "stdout",
          "text": [
            "Epoch 55 | Train Loss: 112.0893 | Val Loss: 108.7810\n"
          ]
        },
        {
          "output_type": "stream",
          "name": "stderr",
          "text": [
            "Train Batch: 100%|██████████| 60/60 [00:36<00:00,  1.66it/s]\n"
          ]
        },
        {
          "output_type": "stream",
          "name": "stdout",
          "text": [
            "Epoch 56 | Train Loss: 112.6684 | Val Loss: 108.7884\n"
          ]
        },
        {
          "output_type": "stream",
          "name": "stderr",
          "text": [
            "Train Batch: 100%|██████████| 60/60 [00:36<00:00,  1.65it/s]\n"
          ]
        },
        {
          "output_type": "stream",
          "name": "stdout",
          "text": [
            "Epoch 57 | Train Loss: 112.3665 | Val Loss: 108.8248\n"
          ]
        },
        {
          "output_type": "stream",
          "name": "stderr",
          "text": [
            "Train Batch: 100%|██████████| 60/60 [00:36<00:00,  1.66it/s]\n"
          ]
        },
        {
          "output_type": "stream",
          "name": "stdout",
          "text": [
            "Epoch 58 | Train Loss: 112.4113 | Val Loss: 108.7585\n"
          ]
        },
        {
          "output_type": "stream",
          "name": "stderr",
          "text": [
            "Train Batch: 100%|██████████| 60/60 [00:36<00:00,  1.65it/s]\n"
          ]
        },
        {
          "output_type": "stream",
          "name": "stdout",
          "text": [
            "Epoch 59 | Train Loss: 112.4321 | Val Loss: 108.7887\n"
          ]
        },
        {
          "output_type": "stream",
          "name": "stderr",
          "text": [
            "Train Batch: 100%|██████████| 60/60 [00:36<00:00,  1.65it/s]\n"
          ]
        },
        {
          "output_type": "stream",
          "name": "stdout",
          "text": [
            "Epoch 60 | Train Loss: 111.8956 | Val Loss: 108.7578\n"
          ]
        },
        {
          "output_type": "stream",
          "name": "stderr",
          "text": [
            "Train Batch: 100%|██████████| 60/60 [00:36<00:00,  1.66it/s]\n"
          ]
        },
        {
          "output_type": "stream",
          "name": "stdout",
          "text": [
            "Epoch 61 | Train Loss: 111.8576 | Val Loss: 108.7527\n"
          ]
        },
        {
          "output_type": "stream",
          "name": "stderr",
          "text": [
            "Train Batch: 100%|██████████| 60/60 [00:36<00:00,  1.65it/s]\n"
          ]
        },
        {
          "output_type": "stream",
          "name": "stdout",
          "text": [
            "Epoch 62 | Train Loss: 112.6460 | Val Loss: 108.7709\n"
          ]
        },
        {
          "output_type": "stream",
          "name": "stderr",
          "text": [
            "Train Batch: 100%|██████████| 60/60 [00:36<00:00,  1.65it/s]\n"
          ]
        },
        {
          "output_type": "stream",
          "name": "stdout",
          "text": [
            "Epoch 63 | Train Loss: 113.2497 | Val Loss: 108.7460\n"
          ]
        },
        {
          "output_type": "stream",
          "name": "stderr",
          "text": [
            "Train Batch: 100%|██████████| 60/60 [00:36<00:00,  1.65it/s]\n"
          ]
        },
        {
          "output_type": "stream",
          "name": "stdout",
          "text": [
            "Epoch 64 | Train Loss: 113.0019 | Val Loss: 108.7316\n"
          ]
        },
        {
          "output_type": "stream",
          "name": "stderr",
          "text": [
            "Train Batch: 100%|██████████| 60/60 [00:36<00:00,  1.66it/s]\n"
          ]
        },
        {
          "output_type": "stream",
          "name": "stdout",
          "text": [
            "Epoch 65 | Train Loss: 112.4658 | Val Loss: 108.7692\n"
          ]
        },
        {
          "output_type": "stream",
          "name": "stderr",
          "text": [
            "Train Batch: 100%|██████████| 60/60 [00:36<00:00,  1.65it/s]\n"
          ]
        },
        {
          "output_type": "stream",
          "name": "stdout",
          "text": [
            "Epoch 66 | Train Loss: 112.2097 | Val Loss: 108.7507\n"
          ]
        },
        {
          "output_type": "stream",
          "name": "stderr",
          "text": [
            "Train Batch: 100%|██████████| 60/60 [00:36<00:00,  1.66it/s]\n"
          ]
        },
        {
          "output_type": "stream",
          "name": "stdout",
          "text": [
            "Epoch 67 | Train Loss: 113.2005 | Val Loss: 108.7424\n"
          ]
        },
        {
          "output_type": "stream",
          "name": "stderr",
          "text": [
            "Train Batch: 100%|██████████| 60/60 [00:36<00:00,  1.65it/s]\n"
          ]
        },
        {
          "output_type": "stream",
          "name": "stdout",
          "text": [
            "Epoch 68 | Train Loss: 112.2858 | Val Loss: 108.7878\n"
          ]
        },
        {
          "output_type": "stream",
          "name": "stderr",
          "text": [
            "Train Batch: 100%|██████████| 60/60 [00:36<00:00,  1.65it/s]\n"
          ]
        },
        {
          "output_type": "stream",
          "name": "stdout",
          "text": [
            "Epoch 69 | Train Loss: 112.5110 | Val Loss: 108.7368\n"
          ]
        },
        {
          "output_type": "stream",
          "name": "stderr",
          "text": [
            "Train Batch: 100%|██████████| 60/60 [00:36<00:00,  1.66it/s]\n"
          ]
        },
        {
          "output_type": "stream",
          "name": "stdout",
          "text": [
            "Epoch 70 | Train Loss: 111.4671 | Val Loss: 108.7375\n"
          ]
        },
        {
          "output_type": "stream",
          "name": "stderr",
          "text": [
            "Train Batch: 100%|██████████| 60/60 [00:36<00:00,  1.65it/s]\n"
          ]
        },
        {
          "output_type": "stream",
          "name": "stdout",
          "text": [
            "Epoch 71 | Train Loss: 112.1301 | Val Loss: 108.7041\n"
          ]
        },
        {
          "output_type": "stream",
          "name": "stderr",
          "text": [
            "Train Batch: 100%|██████████| 60/60 [00:36<00:00,  1.65it/s]\n"
          ]
        },
        {
          "output_type": "stream",
          "name": "stdout",
          "text": [
            "Epoch 72 | Train Loss: 112.7958 | Val Loss: 108.7710\n"
          ]
        },
        {
          "output_type": "stream",
          "name": "stderr",
          "text": [
            "Train Batch: 100%|██████████| 60/60 [00:36<00:00,  1.65it/s]\n"
          ]
        },
        {
          "output_type": "stream",
          "name": "stdout",
          "text": [
            "Epoch 73 | Train Loss: 112.1547 | Val Loss: 108.6875\n"
          ]
        },
        {
          "output_type": "stream",
          "name": "stderr",
          "text": [
            "Train Batch: 100%|██████████| 60/60 [00:36<00:00,  1.65it/s]\n"
          ]
        },
        {
          "output_type": "stream",
          "name": "stdout",
          "text": [
            "Epoch 74 | Train Loss: 111.9835 | Val Loss: 108.7501\n"
          ]
        },
        {
          "output_type": "stream",
          "name": "stderr",
          "text": [
            "Train Batch: 100%|██████████| 60/60 [00:36<00:00,  1.65it/s]\n"
          ]
        },
        {
          "output_type": "stream",
          "name": "stdout",
          "text": [
            "Epoch 75 | Train Loss: 112.3481 | Val Loss: 108.6809\n"
          ]
        },
        {
          "output_type": "stream",
          "name": "stderr",
          "text": [
            "Train Batch: 100%|██████████| 60/60 [00:36<00:00,  1.65it/s]\n"
          ]
        },
        {
          "output_type": "stream",
          "name": "stdout",
          "text": [
            "Epoch 76 | Train Loss: 111.6861 | Val Loss: 108.7736\n"
          ]
        },
        {
          "output_type": "stream",
          "name": "stderr",
          "text": [
            "Train Batch: 100%|██████████| 60/60 [00:36<00:00,  1.65it/s]\n"
          ]
        },
        {
          "output_type": "stream",
          "name": "stdout",
          "text": [
            "Epoch 77 | Train Loss: 112.2647 | Val Loss: 108.7549\n"
          ]
        },
        {
          "output_type": "stream",
          "name": "stderr",
          "text": [
            "Train Batch: 100%|██████████| 60/60 [00:36<00:00,  1.65it/s]\n"
          ]
        },
        {
          "output_type": "stream",
          "name": "stdout",
          "text": [
            "Epoch 78 | Train Loss: 112.2848 | Val Loss: 108.7102\n"
          ]
        },
        {
          "output_type": "stream",
          "name": "stderr",
          "text": [
            "Train Batch: 100%|██████████| 60/60 [00:36<00:00,  1.65it/s]\n"
          ]
        },
        {
          "output_type": "stream",
          "name": "stdout",
          "text": [
            "Epoch 79 | Train Loss: 111.9901 | Val Loss: 108.7742\n"
          ]
        },
        {
          "output_type": "stream",
          "name": "stderr",
          "text": [
            "Train Batch: 100%|██████████| 60/60 [00:36<00:00,  1.65it/s]\n"
          ]
        },
        {
          "output_type": "stream",
          "name": "stdout",
          "text": [
            "Epoch 80 | Train Loss: 112.0291 | Val Loss: 108.7176\n"
          ]
        },
        {
          "output_type": "stream",
          "name": "stderr",
          "text": [
            "Train Batch: 100%|██████████| 60/60 [00:36<00:00,  1.65it/s]\n"
          ]
        },
        {
          "output_type": "stream",
          "name": "stdout",
          "text": [
            "Epoch 81 | Train Loss: 112.4716 | Val Loss: 108.7633\n"
          ]
        },
        {
          "output_type": "stream",
          "name": "stderr",
          "text": [
            "Train Batch: 100%|██████████| 60/60 [00:36<00:00,  1.65it/s]\n"
          ]
        },
        {
          "output_type": "stream",
          "name": "stdout",
          "text": [
            "Epoch 82 | Train Loss: 112.6627 | Val Loss: 108.6410\n"
          ]
        },
        {
          "output_type": "stream",
          "name": "stderr",
          "text": [
            "Train Batch: 100%|██████████| 60/60 [00:36<00:00,  1.66it/s]\n"
          ]
        },
        {
          "output_type": "stream",
          "name": "stdout",
          "text": [
            "Epoch 83 | Train Loss: 111.8304 | Val Loss: 108.7137\n"
          ]
        },
        {
          "output_type": "stream",
          "name": "stderr",
          "text": [
            "Train Batch: 100%|██████████| 60/60 [00:36<00:00,  1.65it/s]\n"
          ]
        },
        {
          "output_type": "stream",
          "name": "stdout",
          "text": [
            "Epoch 84 | Train Loss: 112.5885 | Val Loss: 108.7593\n"
          ]
        },
        {
          "output_type": "stream",
          "name": "stderr",
          "text": [
            "Train Batch: 100%|██████████| 60/60 [00:36<00:00,  1.65it/s]\n"
          ]
        },
        {
          "output_type": "stream",
          "name": "stdout",
          "text": [
            "Epoch 85 | Train Loss: 111.8270 | Val Loss: 108.7839\n"
          ]
        },
        {
          "output_type": "stream",
          "name": "stderr",
          "text": [
            "Train Batch: 100%|██████████| 60/60 [00:36<00:00,  1.65it/s]\n"
          ]
        },
        {
          "output_type": "stream",
          "name": "stdout",
          "text": [
            "Epoch 86 | Train Loss: 112.1775 | Val Loss: 108.7251\n"
          ]
        },
        {
          "output_type": "stream",
          "name": "stderr",
          "text": [
            "Train Batch: 100%|██████████| 60/60 [00:36<00:00,  1.65it/s]\n"
          ]
        },
        {
          "output_type": "stream",
          "name": "stdout",
          "text": [
            "Epoch 87 | Train Loss: 112.5372 | Val Loss: 108.7553\n"
          ]
        },
        {
          "output_type": "stream",
          "name": "stderr",
          "text": [
            "Train Batch: 100%|██████████| 60/60 [00:36<00:00,  1.65it/s]\n"
          ]
        },
        {
          "output_type": "stream",
          "name": "stdout",
          "text": [
            "Epoch 88 | Train Loss: 112.0608 | Val Loss: 108.7342\n"
          ]
        },
        {
          "output_type": "stream",
          "name": "stderr",
          "text": [
            "Train Batch: 100%|██████████| 60/60 [00:36<00:00,  1.65it/s]\n"
          ]
        },
        {
          "output_type": "stream",
          "name": "stdout",
          "text": [
            "Epoch 89 | Train Loss: 111.5143 | Val Loss: 108.7638\n"
          ]
        },
        {
          "output_type": "stream",
          "name": "stderr",
          "text": [
            "Train Batch: 100%|██████████| 60/60 [00:36<00:00,  1.66it/s]\n"
          ]
        },
        {
          "output_type": "stream",
          "name": "stdout",
          "text": [
            "Epoch 90 | Train Loss: 111.3919 | Val Loss: 108.7071\n"
          ]
        },
        {
          "output_type": "stream",
          "name": "stderr",
          "text": [
            "Train Batch: 100%|██████████| 60/60 [00:36<00:00,  1.66it/s]\n"
          ]
        },
        {
          "output_type": "stream",
          "name": "stdout",
          "text": [
            "Epoch 91 | Train Loss: 111.7393 | Val Loss: 108.6698\n"
          ]
        },
        {
          "output_type": "stream",
          "name": "stderr",
          "text": [
            "Train Batch: 100%|██████████| 60/60 [00:36<00:00,  1.65it/s]\n"
          ]
        },
        {
          "output_type": "stream",
          "name": "stdout",
          "text": [
            "Epoch 92 | Train Loss: 111.8369 | Val Loss: 108.7059\n"
          ]
        },
        {
          "output_type": "stream",
          "name": "stderr",
          "text": [
            "Train Batch: 100%|██████████| 60/60 [00:36<00:00,  1.65it/s]\n"
          ]
        },
        {
          "output_type": "stream",
          "name": "stdout",
          "text": [
            "Epoch 93 | Train Loss: 112.1416 | Val Loss: 108.7532\n"
          ]
        },
        {
          "output_type": "stream",
          "name": "stderr",
          "text": [
            "Train Batch: 100%|██████████| 60/60 [00:36<00:00,  1.65it/s]\n"
          ]
        },
        {
          "output_type": "stream",
          "name": "stdout",
          "text": [
            "Epoch 94 | Train Loss: 112.9874 | Val Loss: 108.7662\n"
          ]
        },
        {
          "output_type": "stream",
          "name": "stderr",
          "text": [
            "Train Batch: 100%|██████████| 60/60 [00:36<00:00,  1.66it/s]\n"
          ]
        },
        {
          "output_type": "stream",
          "name": "stdout",
          "text": [
            "Epoch 95 | Train Loss: 111.9590 | Val Loss: 108.7097\n"
          ]
        },
        {
          "output_type": "stream",
          "name": "stderr",
          "text": [
            "Train Batch: 100%|██████████| 60/60 [00:36<00:00,  1.66it/s]\n"
          ]
        },
        {
          "output_type": "stream",
          "name": "stdout",
          "text": [
            "Epoch 96 | Train Loss: 111.0764 | Val Loss: 108.7449\n"
          ]
        },
        {
          "output_type": "stream",
          "name": "stderr",
          "text": [
            "Train Batch: 100%|██████████| 60/60 [00:36<00:00,  1.65it/s]\n"
          ]
        },
        {
          "output_type": "stream",
          "name": "stdout",
          "text": [
            "Epoch 97 | Train Loss: 113.0569 | Val Loss: 108.7203\n"
          ]
        },
        {
          "output_type": "stream",
          "name": "stderr",
          "text": [
            "Train Batch: 100%|██████████| 60/60 [00:36<00:00,  1.65it/s]\n"
          ]
        },
        {
          "output_type": "stream",
          "name": "stdout",
          "text": [
            "Epoch 98 | Train Loss: 113.1013 | Val Loss: 108.7774\n"
          ]
        },
        {
          "output_type": "stream",
          "name": "stderr",
          "text": [
            "Train Batch: 100%|██████████| 60/60 [00:36<00:00,  1.65it/s]\n"
          ]
        },
        {
          "output_type": "stream",
          "name": "stdout",
          "text": [
            "Epoch 99 | Train Loss: 112.5679 | Val Loss: 108.7127\n"
          ]
        },
        {
          "output_type": "stream",
          "name": "stderr",
          "text": [
            "Train Batch: 100%|██████████| 60/60 [00:36<00:00,  1.66it/s]\n"
          ]
        },
        {
          "output_type": "stream",
          "name": "stdout",
          "text": [
            "Epoch 100 | Train Loss: 112.3282 | Val Loss: 108.7287\n"
          ]
        }
      ],
      "source": [
        "from tqdm import tqdm\n",
        "\n",
        "import torch\n",
        "import torch.nn as nn\n",
        "import torch.nn.functional as F\n",
        "from torchvision.ops import nms\n",
        "\n",
        "class Config:\n",
        "    IMG_DIM           = 416\n",
        "    BATCH_SIZE        = 32\n",
        "    VAL_BATCH_SIZE    = 8\n",
        "    NUM_WORKERS       = 2\n",
        "\n",
        "    NUM_CLASSES       = 3\n",
        "    ANCHORS           = (\n",
        "        (1.08, 1.19),\n",
        "        (3.42, 4.41),\n",
        "        (6.63, 11.38),\n",
        "        (9.42, 5.11),\n",
        "        (16.62, 10.52)\n",
        "    )\n",
        "    GRID_SIZE         = 13\n",
        "\n",
        "    LR                = 1e-3\n",
        "    EPOCHS            = 100\n",
        "\n",
        "    CONF_THRESH       = 0.2\n",
        "    IOU_THRESH        = 0.4\n",
        "\n",
        "    @property\n",
        "    def device(self):\n",
        "        return torch.device(\"cuda\" if torch.cuda.is_available() else \"cpu\")\n",
        "cfg = Config()\n",
        "\n",
        "# ------------------------------------------------------------------------------\n",
        "# 1) YOLOv2 Loss\n",
        "# ------------------------------------------------------------------------------\n",
        "class YOLOv2Loss(nn.Module):\n",
        "    def __init__(self, anchors, num_classes, img_size, lambda_coord=5, lambda_noobj=0.5):\n",
        "        \"\"\"\n",
        "        anchors: [(w, h), ...] 원본 이미지 기준 앵커 박스 크기\n",
        "        num_classes: 클래스 수\n",
        "        img_size: 입력 이미지의 크기 (정방형, 예: 416)\n",
        "        lambda_coord: 좌표 손실 가중치\n",
        "        lambda_noobj: 물체가 없는 경우의 confidence 손실 가중치\n",
        "        \"\"\"\n",
        "        super(YOLOv2Loss, self).__init__()\n",
        "        self.anchors = anchors\n",
        "        self.num_anchors = len(anchors)\n",
        "        self.num_classes = num_classes\n",
        "        self.img_size = img_size\n",
        "        self.lambda_coord = lambda_coord\n",
        "        self.lambda_noobj = lambda_noobj\n",
        "\n",
        "    def forward(self, predictions, target):\n",
        "        \"\"\"\n",
        "        predictions: (batch, A*(5+num_classes), grid_h, grid_w)\n",
        "        target: (batch, grid_h, grid_w, A, 5+num_classes)\n",
        "          - target[..., 0:4]: 정규화된 box 좌표 (center_x, center_y, w, h)\n",
        "          - target[..., 4]: 객체 존재 여부 (1 또는 0)\n",
        "          - target[..., 5:]: one-hot 인코딩된 클래스 벡터\n",
        "\n",
        "        **주의:** 실제 YOLOv2는 ground truth를 앵커별로 할당하는 전처리 과정이 필요합니다.\n",
        "        여기서는 target이 이미 해당 형식으로 준비되었다고 가정합니다.\n",
        "        \"\"\"\n",
        "        batch_size = predictions.size(0)\n",
        "        grid_h = predictions.size(2)\n",
        "        grid_w = predictions.size(3)\n",
        "\n",
        "        # predictions를 (batch, grid_h, grid_w, A, 5+num_classes)로 재구성\n",
        "        prediction = predictions.view(batch_size, self.num_anchors, 5 + self.num_classes, grid_h, grid_w)\n",
        "        prediction = prediction.permute(0, 3, 4, 1, 2).contiguous()\n",
        "        # prediction shape: (batch, grid_h, grid_w, A, 5+num_classes)\n",
        "\n",
        "        # 예측값 분리 및 활성화 함수 적용\n",
        "        # x, y: sigmoid; w, h: exp; confidence: sigmoid; class: 그대로 (추후 CrossEntropy 또는 MSE 사용)\n",
        "        pred_tx = prediction[..., 0]\n",
        "        pred_ty = prediction[..., 1]\n",
        "        pred_tw = prediction[..., 2]\n",
        "        pred_th = prediction[..., 3]\n",
        "        pred_conf = torch.sigmoid(prediction[..., 4])\n",
        "        pred_cls = prediction[..., 5:]\n",
        "\n",
        "        pred_x = torch.sigmoid(pred_tx)\n",
        "        pred_y = torch.sigmoid(pred_ty)\n",
        "        pred_w = torch.exp(pred_tw)\n",
        "        pred_h = torch.exp(pred_th)\n",
        "\n",
        "        # grid offset 계산\n",
        "        device = predictions.device\n",
        "        grid_x = torch.arange(grid_w, device=device).repeat(grid_h, 1).float()\n",
        "        grid_y = torch.arange(grid_h, device=device).unsqueeze(1).repeat(1, grid_w).float()\n",
        "        grid_x = grid_x.unsqueeze(0).unsqueeze(3)  # (1, grid_h, grid_w, 1)\n",
        "        grid_y = grid_y.unsqueeze(0).unsqueeze(3)  # (1, grid_h, grid_w, 1)\n",
        "\n",
        "        # 앵커 박스 정보 (정규화되지 않은 원본 크기에서 img_size로 나누어 정규화)\n",
        "        anchors = torch.tensor(self.anchors, device=device).float()  # (A, 2)\n",
        "        anchor_w = anchors[:, 0].view(1, 1, 1, self.num_anchors)\n",
        "        anchor_h = anchors[:, 1].view(1, 1, 1, self.num_anchors)\n",
        "\n",
        "        # 최종 박스 좌표 (정규화된 값으로 변환)\n",
        "        box_x = (pred_x + grid_x) / grid_w\n",
        "        box_y = (pred_y + grid_y) / grid_h\n",
        "        box_w = (pred_w * anchor_w) / self.img_size\n",
        "        box_h = (pred_h * anchor_h) / self.img_size\n",
        "\n",
        "        # target에서 ground truth 값 추출\n",
        "        # target[..., 0:4]: (center_x, center_y, w, h)\n",
        "        obj_mask = target[..., 4]  # 객체가 있는 셀 (1 또는 0)\n",
        "        noobj_mask = 1 - obj_mask\n",
        "\n",
        "        target_x = target[..., 0]\n",
        "        target_y = target[..., 1]\n",
        "        target_w = target[..., 2]\n",
        "        target_h = target[..., 3]\n",
        "\n",
        "        # 좌표 손실 (object가 있는 경우만)\n",
        "        loss_x = torch.sum(obj_mask * (box_x - target_x) ** 2)\n",
        "        loss_y = torch.sum(obj_mask * (box_y - target_y) ** 2)\n",
        "        # width, height에 대해 sqrt를 취하는 것은 작은 박스에 대한 민감도 향상을 위함\n",
        "        loss_w = torch.sum(obj_mask * (torch.sqrt(box_w + 1e-6) - torch.sqrt(target_w + 1e-6)) ** 2)\n",
        "        loss_h = torch.sum(obj_mask * (torch.sqrt(box_h + 1e-6) - torch.sqrt(target_h + 1e-6)) ** 2)\n",
        "        coord_loss = self.lambda_coord * (loss_x + loss_y + loss_w + loss_h)\n",
        "\n",
        "        # confidence 손실\n",
        "        loss_conf_obj = torch.sum(obj_mask * (pred_conf - target[..., 4]) ** 2)\n",
        "        loss_conf_noobj = torch.sum(noobj_mask * (pred_conf - target[..., 4]) ** 2)\n",
        "        conf_loss = loss_conf_obj + self.lambda_noobj * loss_conf_noobj\n",
        "\n",
        "        # 클래스 손실 (여기서는 MSE 사용, 실제로는 CrossEntropy 등으로도 구현 가능)\n",
        "        loss_cls = torch.sum(obj_mask.unsqueeze(-1) * (pred_cls - target[..., 5:]) ** 2)\n",
        "\n",
        "        total_loss = (coord_loss + conf_loss + loss_cls) / batch_size\n",
        "        return total_loss\n",
        "\n",
        "\n",
        "\n",
        "# ------------------------------------------------------------------------------\n",
        "# 2) Decode + NMS\n",
        "# ------------------------------------------------------------------------------\n",
        "def decode_and_nms_v2(predictions,\n",
        "                     anchors,\n",
        "                     num_classes,\n",
        "                     img_dim=416,\n",
        "                     conf_thresh=0.2,\n",
        "                     iou_thresh=0.4):\n",
        "    \"\"\"\n",
        "    predictions : [B, S, S, A*(5+C)]\n",
        "    anchors     : [(w,h),...]\n",
        "    returns     : B개의 텐서 [K_i,6] 리스트 (x1,y1,x2,y2,score,cls)\n",
        "    \"\"\"\n",
        "    device = predictions.device\n",
        "    B, S, _, _ = predictions.shape\n",
        "    A = len(anchors)\n",
        "    C = num_classes\n",
        "\n",
        "    # [B,S,S,A,5+C]\n",
        "    pred = predictions.view(B, S, S, A, 5 + C)\n",
        "\n",
        "    # 분리: sigmoid/exp/softmax\n",
        "    x    = torch.sigmoid(pred[..., 0])\n",
        "    y    = torch.sigmoid(pred[..., 1])\n",
        "    w    = pred[..., 2]\n",
        "    h    = pred[..., 3]\n",
        "    conf = torch.sigmoid(pred[..., 4])\n",
        "    cls_logits = pred[..., 5:]\n",
        "    cls_prob   = F.softmax(cls_logits, dim=-1)\n",
        "\n",
        "    # 그리드 생성\n",
        "    grid_x = torch.arange(S, device=device).repeat(S,1).view(1,S,S,1)\n",
        "    grid_y = torch.arange(S, device=device).repeat(S,1).t().view(1,S,S,1)\n",
        "\n",
        "    # 앵커를 격자 단위로 변환\n",
        "    stride = img_dim / S\n",
        "    anchors = torch.tensor(anchors, device=device)\n",
        "    anchor_w = anchors[:,0].view(1,1,1,A)\n",
        "    anchor_h = anchors[:,1].view(1,1,1,A)\n",
        "\n",
        "    # 박스 디코딩 (0~1)\n",
        "    bx = (x + grid_x) / S\n",
        "    by = (y + grid_y) / S\n",
        "    bw = (anchor_w * torch.exp(w)) / img_dim\n",
        "    bh = (anchor_h * torch.exp(h)) / img_dim\n",
        "\n",
        "    # 좌표 정리 (corner)\n",
        "    x1 = bx - bw/2; y1 = by - bh/2\n",
        "    x2 = bx + bw/2; y2 = by + bh/2\n",
        "\n",
        "    # flatten\n",
        "    x1 = x1.view(B, -1); y1 = y1.view(B, -1)\n",
        "    x2 = x2.view(B, -1); y2 = y2.view(B, -1)\n",
        "    conf = conf.view(B, -1)\n",
        "    cls_prob = cls_prob.view(B, -1, C)\n",
        "\n",
        "    outputs = []\n",
        "    for b in range(B):\n",
        "        # 각 앵커 최고 클래스\n",
        "        cls_scores, cls_inds = torch.max(cls_prob[b], dim=-1)\n",
        "        scores = conf[b] * cls_scores\n",
        "        mask = scores > conf_thresh\n",
        "\n",
        "        if mask.sum() == 0:\n",
        "            outputs.append(torch.zeros((0,6), device=device))\n",
        "            continue\n",
        "\n",
        "        bx1 = x1[b][mask] * img_dim\n",
        "        by1 = y1[b][mask] * img_dim\n",
        "        bx2 = x2[b][mask] * img_dim\n",
        "        by2 = y2[b][mask] * img_dim\n",
        "        sc  = scores[mask]\n",
        "        ci  = cls_inds[mask].float()\n",
        "\n",
        "        # NMS\n",
        "        boxes = torch.stack([bx1, by1, bx2, by2], dim=-1)\n",
        "        keep  = nms(boxes, sc, iou_thresh)\n",
        "        dets  = torch.cat([\n",
        "            boxes[keep],\n",
        "            sc[keep].unsqueeze(1),\n",
        "            ci[keep].unsqueeze(1)\n",
        "        ], dim=1)\n",
        "\n",
        "        outputs.append(dets)\n",
        "\n",
        "    return outputs\n",
        "\n",
        "# ------------------------------------------------------------------------------\n",
        "# 3) YOLOv2 모델 (Lightnet Darknet19 사용)\n",
        "# ------------------------------------------------------------------------------\n",
        "class YOLOv2(nn.Module):\n",
        "    def __init__(self,\n",
        "                 num_classes=20,\n",
        "                 anchors=[(1.08,1.19),(3.42,4.41),(6.63,11.38),\n",
        "                          (9.42,5.11),(16.62,10.52)],\n",
        "                 img_dim=416,\n",
        "                 conf_thresh=0.2,\n",
        "                 iou_thresh=0.4):\n",
        "        \"\"\"\n",
        "        num_classes      : 클래스 수\n",
        "        anchors          : 앵커 리스트\n",
        "        img_dim, thresh  : 추론용 파라미터\n",
        "        \"\"\"\n",
        "        super().__init__()\n",
        "        self.num_classes = num_classes\n",
        "        self.anchors     = anchors\n",
        "        self.img_dim     = img_dim\n",
        "        self.conf_thresh = conf_thresh\n",
        "        self.iou_thresh  = iou_thresh\n",
        "\n",
        "        # 1) Darknet19 백본\n",
        "        self.backbone = Darknet19()\n",
        "\n",
        "        # 2) Detection 헤드\n",
        "        A = len(anchors); C = num_classes\n",
        "        self.head = nn.Sequential(\n",
        "            nn.Conv2d(1024, 1024, kernel_size=3, padding=1),\n",
        "            nn.BatchNorm2d(1024), nn.LeakyReLU(0.1),\n",
        "            nn.Conv2d(1024, 1024, kernel_size=3, padding=1),\n",
        "            nn.BatchNorm2d(1024), nn.LeakyReLU(0.1),\n",
        "            nn.Conv2d(1024, A*(5 + C), kernel_size=1)\n",
        "        )\n",
        "\n",
        "        # 3) 손실 함수\n",
        "        self.loss_fn = YoloV2Loss(anchors, num_classes, img_dim)\n",
        "\n",
        "    def forward(self, x, target=None):\n",
        "        \"\"\"\n",
        "        x      : [B,3,H,W]\n",
        "        target : [B, S, S, A*(5+C)] 포맷 GT\n",
        "        \"\"\"\n",
        "        # print('len(x): ', len(x)) # 2, 4\n",
        "        # print('type(x): ', type(x)) # <class 'torch.Tensor'>, <class 'list'>\n",
        "        # print('x[0]: ', x[0].size()) # torch.Size([3, 416, 416]), torch.Size([3, 427, 640])\n",
        "        ## 내일 concat을 사용하여 병합할 것. 현재 list이기 때문에 shape문제로 에러 발생.\n",
        "\n",
        "        # 1) Backbone → feature map [B,1024,S,S] and [B, 512*4,13,13]\n",
        "        fmap, reorged_fmap = self.backbone(x)\n",
        "        #print('fmap: ', fmap.size())\n",
        "\n",
        "        # 2) Detection head → raw pred [B, A*(5+C), S, S]\n",
        "        raw  = self.head(fmap)\n",
        "        raw  = raw.permute(0,2,3,1).contiguous()   # [B,S,S,A*(5+C)]\n",
        "\n",
        "        if target is not None:\n",
        "            # 학습 시 손실 반환\n",
        "            return self.loss_fn(raw, target)\n",
        "\n",
        "        # 추론 시 decode + NMS\n",
        "        return decode_and_nms_v2(\n",
        "            raw,\n",
        "            self.anchors,\n",
        "            self.num_classes,\n",
        "            img_dim=self.img_dim,\n",
        "            conf_thresh=self.conf_thresh,\n",
        "            iou_thresh=self.iou_thresh\n",
        "        )\n",
        "\n",
        "# ------------------------------------------------------------------------------\n",
        "# 4) 훈련 로직\n",
        "# ------------------------------------------------------------------------------\n",
        "def train_one_epoch(model, loader, optimizer):\n",
        "    model.train()\n",
        "    total = 0\n",
        "    for imgs, targets, metas in tqdm(loader, desc='Train Batch'):\n",
        "        imgs = imgs.to(cfg.device)\n",
        "        targets = targets.to(cfg.device)\n",
        "        # imgs = [img.to(cfg.device) for img in imgs]\n",
        "        # imgs = torch.cat([img.unsqueeze(0) for img in imgs], dim=0)\n",
        "        # targets = [{k: v.to(cfg.device) for k, v in t.items()} for t in targets]\n",
        "        # print(type(metas), metas)\n",
        "        loss = model(imgs, targets)\n",
        "\n",
        "        optimizer.zero_grad()\n",
        "        loss.backward()\n",
        "        optimizer.step()\n",
        "\n",
        "        total += loss.item()\n",
        "    return total / len(loader)\n",
        "\n",
        "\n",
        "def validate_one_epoch(model, loader):\n",
        "    model.eval()\n",
        "    total = 0\n",
        "    with torch.no_grad():\n",
        "        for imgs, targets, metas in loader:\n",
        "            imgs, targets = imgs.to(cfg.device), targets.to(cfg.device)\n",
        "            loss = model(imgs, targets)\n",
        "            total += loss.item()\n",
        "    return total / len(loader)\n",
        "\n",
        "# ------------------------------------------------------------------------------\n",
        "# 5) 사용 예시\n",
        "# ------------------------------------------------------------------------------\n",
        "if __name__ == \"__main__\":\n",
        "\n",
        "    model = YOLOv2(\n",
        "        num_classes     = cfg.NUM_CLASSES,\n",
        "        anchors         = cfg.ANCHORS,\n",
        "        img_dim         = cfg.IMG_DIM,\n",
        "        conf_thresh     = cfg.CONF_THRESH,\n",
        "        iou_thresh      = cfg.IOU_THRESH,\n",
        "    ).to(cfg.device)\n",
        "\n",
        "    save_model = load_model(model, 'modelv2')\n",
        "\n",
        "\n",
        "\n",
        "    # # -- 학습 모드 예시 --\n",
        "    # model.train()\n",
        "    # imgs = torch.randn(2,3,416,416, device=cfg.device)\n",
        "    # # targets = ...  # [B,S,S,A*(5+C)] 포맷 GT\n",
        "    # # loss = model(imgs, targets)\n",
        "\n",
        "    # # -- 추론 모드 예시 --\n",
        "    # model.eval()\n",
        "    # with torch.no_grad():\n",
        "    #     preds = model(imgs)  # 리스트 of [K_i,6]\n",
        "    #     for det in preds:\n",
        "    #         print(det.shape, det)\n",
        "\n",
        "    opt = torch.optim.Adam(model.parameters(), lr=cfg.LR)\n",
        "    scheduler = torch.optim.lr_scheduler.StepLR(opt, step_size=10, gamma=0.5)\n",
        "    for epoch in range(1, cfg.EPOCHS + 1):\n",
        "        train_loss = train_one_epoch(model, train_loader, opt)\n",
        "        val_loss   = validate_one_epoch(model, val_loader)\n",
        "        scheduler.step()\n",
        "        if epoch % 5 == 0:\n",
        "            save_model()\n",
        "        print(f\"Epoch {epoch:02d} | Train Loss: {train_loss:.4f} | Val Loss: {val_loss:.4f}\")\n"
      ]
    },
    {
      "cell_type": "code",
      "source": [
        "from torchvision.transforms.functional import to_pil_image\n",
        "import matplotlib.pyplot as plt\n",
        "from PIL import Image, ImageDraw, ImageFont\n",
        "\n",
        "def draw_detections_pil(image_tensor, detections, class_names, output_path=None):\n",
        "    \"\"\"\n",
        "    image_tensor : torch.Tensor (3, H, W), float [0,1]\n",
        "    detections   : torch.Tensor or array (K,6) [x1,y1,x2,y2,score,cls_idx], normalized\n",
        "    class_names  : 클래스 이름 리스트\n",
        "    \"\"\"\n",
        "    # 1) Tensor → H×W×3 uint8 → PIL\n",
        "    img_np = (image_tensor\n",
        "              .mul(255)\n",
        "              .clamp(0,255)\n",
        "              .byte()\n",
        "              .permute(1,2,0)\n",
        "              .cpu()\n",
        "              .numpy())\n",
        "    pil_img = Image.fromarray(img_np)\n",
        "    draw = ImageDraw.Draw(pil_img)\n",
        "\n",
        "    # 2) 폰트 준비\n",
        "    try:\n",
        "        font = ImageFont.truetype(\"arial.ttf\", size=16)\n",
        "    except IOError:\n",
        "        font = ImageFont.load_default()\n",
        "\n",
        "    W, H = pil_img.size\n",
        "    dets = detections.detach().cpu().tolist()\n",
        "\n",
        "    for x1,y1,x2,y2,score,cls_idx in dets:\n",
        "        # 픽셀 좌표로 변환\n",
        "        x1p, y1p = int(x1*W), int(y1*H)\n",
        "        x2p, y2p = int(x2*W), int(y2*H)\n",
        "\n",
        "        # 3) 바운딩 박스\n",
        "        draw.rectangle([x1p, y1p, x2p, y2p], outline=\"lime\", width=2)\n",
        "\n",
        "        # 4) 라벨 문자열\n",
        "        #label = f\"{class_names[int(cls_idx)]}:{score:.2f}\"\n",
        "        label = f\"{cls_idx}:{score:.2f}\"\n",
        "\n",
        "        # 🚩 mask.size 로 텍스트 크기 구하기\n",
        "        mask = font.getmask(label)\n",
        "        tw, th = mask.size\n",
        "\n",
        "        # 5) 라벨 배경 그리기\n",
        "        bg_xy = [x1p, y1p - th - 4, x1p + tw + 4, y1p]\n",
        "        draw.rectangle(bg_xy, fill=\"black\")\n",
        "\n",
        "        # 6) 흰색 텍스트\n",
        "        draw.text((x1p+2, y1p-th-2), label, font=font, fill=\"white\")\n",
        "\n",
        "    # 7) 저장 또는 Matplotlib 표시\n",
        "    if output_path:\n",
        "        pil_img.save(output_path)\n",
        "    else:\n",
        "        plt.figure(figsize=(8,6))\n",
        "        plt.imshow(pil_img)\n",
        "        plt.axis(\"off\")\n",
        "        plt.show()\n",
        "\n",
        "    return pil_img\n",
        "\n",
        "# 단일 이미지를 불러와서 추론·시각화\n",
        "model.eval()\n",
        "total = 0\n",
        "img = None\n",
        "meta = None\n",
        "with torch.no_grad():\n",
        "    for imgs, targets, metas in val_loader:\n",
        "        #imgs, targets = imgs.to(cfg.device), targets.to(cfg.device)\n",
        "        img = imgs[0]\n",
        "        meta = metas[0]\n",
        "        break\n",
        "\n",
        "print(img.size())\n",
        "#img_path = \"data/pills/images/example.jpg\"\n",
        "orig_img = orig_img2 = to_pil_image(img) #Image.open(img.permute(1, 2, 0).cpu().numpy())#Image.open(img_path).convert(\"RGB\")\n",
        "resized  = orig_img.resize((cfg.IMG_DIM, cfg.IMG_DIM))\n",
        "tensor   = transforms.ToTensor()(resized).unsqueeze(0).to(cfg.device)\n",
        "\n",
        "with torch.no_grad():\n",
        "    detections = model(tensor)  # 리스트 of [K,6]: x1,y1,x2,y2,score,cls\n",
        "    print('detections[0]: ', detections[0])\n",
        "    print('meta: ', meta)\n",
        "    draw_detections_pil(img, detections[0], [])\n",
        "\n",
        "# # 원본 크기로 좌표 되돌리기\n",
        "# draw = cfg.ImageDraw.Draw(orig_img)\n",
        "# w0, h0 = orig_img.size\n",
        "# scale_w, scale_h = w0/cfg.IMG_DIM, h0/cfg.IMG_DIM\n",
        "\n",
        "# for det in detections[0]:\n",
        "#     x1, y1, x2, y2, score, cls = det.cpu().numpy()\n",
        "#     # resize 보정\n",
        "#     x1, x2 = x1*scale_w, x2*scale_w\n",
        "#     y1, y2 = y1*scale_h, y2*scale_h\n",
        "#     # 박스 그리기\n",
        "#     draw.rectangle([x1,y1,x2,y2], outline=\"red\", width=2)\n",
        "#     draw.text((x1, y1-10), f\"pill {score:.2f}\", fill=\"red\")\n",
        "\n",
        "# orig_img.show()"
      ],
      "metadata": {
        "id": "y4jls3j5VxO0",
        "colab": {
          "base_uri": "https://localhost:8080/",
          "height": 287
        },
        "outputId": "e6ec2f1e-6583-4a74-bbef-4442353d888f"
      },
      "execution_count": 1,
      "outputs": [
        {
          "output_type": "error",
          "ename": "KeyboardInterrupt",
          "evalue": "",
          "traceback": [
            "\u001b[0;31m---------------------------------------------------------------------------\u001b[0m",
            "\u001b[0;31mKeyboardInterrupt\u001b[0m                         Traceback (most recent call last)",
            "\u001b[0;32m/tmp/ipython-input-1-4170614445.py\u001b[0m in \u001b[0;36m<cell line: 0>\u001b[0;34m()\u001b[0m\n\u001b[0;32m----> 1\u001b[0;31m \u001b[0;32mfrom\u001b[0m \u001b[0mtorchvision\u001b[0m\u001b[0;34m.\u001b[0m\u001b[0mtransforms\u001b[0m\u001b[0;34m.\u001b[0m\u001b[0mfunctional\u001b[0m \u001b[0;32mimport\u001b[0m \u001b[0mto_pil_image\u001b[0m\u001b[0;34m\u001b[0m\u001b[0;34m\u001b[0m\u001b[0m\n\u001b[0m\u001b[1;32m      2\u001b[0m \u001b[0;32mimport\u001b[0m \u001b[0mmatplotlib\u001b[0m\u001b[0;34m.\u001b[0m\u001b[0mpyplot\u001b[0m \u001b[0;32mas\u001b[0m \u001b[0mplt\u001b[0m\u001b[0;34m\u001b[0m\u001b[0;34m\u001b[0m\u001b[0m\n\u001b[1;32m      3\u001b[0m \u001b[0;32mfrom\u001b[0m \u001b[0mPIL\u001b[0m \u001b[0;32mimport\u001b[0m \u001b[0mImage\u001b[0m\u001b[0;34m,\u001b[0m \u001b[0mImageDraw\u001b[0m\u001b[0;34m,\u001b[0m \u001b[0mImageFont\u001b[0m\u001b[0;34m\u001b[0m\u001b[0;34m\u001b[0m\u001b[0m\n\u001b[1;32m      4\u001b[0m \u001b[0;34m\u001b[0m\u001b[0m\n\u001b[1;32m      5\u001b[0m \u001b[0;32mdef\u001b[0m \u001b[0mdraw_detections_pil\u001b[0m\u001b[0;34m(\u001b[0m\u001b[0mimage_tensor\u001b[0m\u001b[0;34m,\u001b[0m \u001b[0mdetections\u001b[0m\u001b[0;34m,\u001b[0m \u001b[0mclass_names\u001b[0m\u001b[0;34m,\u001b[0m \u001b[0moutput_path\u001b[0m\u001b[0;34m=\u001b[0m\u001b[0;32mNone\u001b[0m\u001b[0;34m)\u001b[0m\u001b[0;34m:\u001b[0m\u001b[0;34m\u001b[0m\u001b[0;34m\u001b[0m\u001b[0m\n",
            "\u001b[0;32m/usr/local/lib/python3.11/dist-packages/torchvision/__init__.py\u001b[0m in \u001b[0;36m<module>\u001b[0;34m\u001b[0m\n\u001b[1;32m      8\u001b[0m \u001b[0;31m# .extensions) before entering _meta_registrations.\u001b[0m\u001b[0;34m\u001b[0m\u001b[0;34m\u001b[0m\u001b[0m\n\u001b[1;32m      9\u001b[0m \u001b[0;32mfrom\u001b[0m \u001b[0;34m.\u001b[0m\u001b[0mextension\u001b[0m \u001b[0;32mimport\u001b[0m \u001b[0m_HAS_OPS\u001b[0m  \u001b[0;31m# usort:skip\u001b[0m\u001b[0;34m\u001b[0m\u001b[0;34m\u001b[0m\u001b[0m\n\u001b[0;32m---> 10\u001b[0;31m \u001b[0;32mfrom\u001b[0m \u001b[0mtorchvision\u001b[0m \u001b[0;32mimport\u001b[0m \u001b[0m_meta_registrations\u001b[0m\u001b[0;34m,\u001b[0m \u001b[0mdatasets\u001b[0m\u001b[0;34m,\u001b[0m \u001b[0mio\u001b[0m\u001b[0;34m,\u001b[0m \u001b[0mmodels\u001b[0m\u001b[0;34m,\u001b[0m \u001b[0mops\u001b[0m\u001b[0;34m,\u001b[0m \u001b[0mtransforms\u001b[0m\u001b[0;34m,\u001b[0m \u001b[0mutils\u001b[0m  \u001b[0;31m# usort:skip\u001b[0m\u001b[0;34m\u001b[0m\u001b[0;34m\u001b[0m\u001b[0m\n\u001b[0m\u001b[1;32m     11\u001b[0m \u001b[0;34m\u001b[0m\u001b[0m\n\u001b[1;32m     12\u001b[0m \u001b[0;32mtry\u001b[0m\u001b[0;34m:\u001b[0m\u001b[0;34m\u001b[0m\u001b[0;34m\u001b[0m\u001b[0m\n",
            "\u001b[0;32m/usr/local/lib/python3.11/dist-packages/torchvision/models/__init__.py\u001b[0m in \u001b[0;36m<module>\u001b[0;34m\u001b[0m\n\u001b[1;32m      1\u001b[0m \u001b[0;32mfrom\u001b[0m \u001b[0;34m.\u001b[0m\u001b[0malexnet\u001b[0m \u001b[0;32mimport\u001b[0m \u001b[0;34m*\u001b[0m\u001b[0;34m\u001b[0m\u001b[0;34m\u001b[0m\u001b[0m\n\u001b[0;32m----> 2\u001b[0;31m \u001b[0;32mfrom\u001b[0m \u001b[0;34m.\u001b[0m\u001b[0mconvnext\u001b[0m \u001b[0;32mimport\u001b[0m \u001b[0;34m*\u001b[0m\u001b[0;34m\u001b[0m\u001b[0;34m\u001b[0m\u001b[0m\n\u001b[0m\u001b[1;32m      3\u001b[0m \u001b[0;32mfrom\u001b[0m \u001b[0;34m.\u001b[0m\u001b[0mdensenet\u001b[0m \u001b[0;32mimport\u001b[0m \u001b[0;34m*\u001b[0m\u001b[0;34m\u001b[0m\u001b[0;34m\u001b[0m\u001b[0m\n\u001b[1;32m      4\u001b[0m \u001b[0;32mfrom\u001b[0m \u001b[0;34m.\u001b[0m\u001b[0mefficientnet\u001b[0m \u001b[0;32mimport\u001b[0m \u001b[0;34m*\u001b[0m\u001b[0;34m\u001b[0m\u001b[0;34m\u001b[0m\u001b[0m\n\u001b[1;32m      5\u001b[0m \u001b[0;32mfrom\u001b[0m \u001b[0;34m.\u001b[0m\u001b[0mgooglenet\u001b[0m \u001b[0;32mimport\u001b[0m \u001b[0;34m*\u001b[0m\u001b[0;34m\u001b[0m\u001b[0;34m\u001b[0m\u001b[0m\n",
            "\u001b[0;32m/usr/local/lib/python3.11/dist-packages/torchvision/models/convnext.py\u001b[0m in \u001b[0;36m<module>\u001b[0;34m\u001b[0m\n\u001b[1;32m      6\u001b[0m \u001b[0;32mfrom\u001b[0m \u001b[0mtorch\u001b[0m\u001b[0;34m.\u001b[0m\u001b[0mnn\u001b[0m \u001b[0;32mimport\u001b[0m \u001b[0mfunctional\u001b[0m \u001b[0;32mas\u001b[0m \u001b[0mF\u001b[0m\u001b[0;34m\u001b[0m\u001b[0;34m\u001b[0m\u001b[0m\n\u001b[1;32m      7\u001b[0m \u001b[0;34m\u001b[0m\u001b[0m\n\u001b[0;32m----> 8\u001b[0;31m \u001b[0;32mfrom\u001b[0m \u001b[0;34m.\u001b[0m\u001b[0;34m.\u001b[0m\u001b[0mops\u001b[0m\u001b[0;34m.\u001b[0m\u001b[0mmisc\u001b[0m \u001b[0;32mimport\u001b[0m \u001b[0mConv2dNormActivation\u001b[0m\u001b[0;34m,\u001b[0m \u001b[0mPermute\u001b[0m\u001b[0;34m\u001b[0m\u001b[0;34m\u001b[0m\u001b[0m\n\u001b[0m\u001b[1;32m      9\u001b[0m \u001b[0;32mfrom\u001b[0m \u001b[0;34m.\u001b[0m\u001b[0;34m.\u001b[0m\u001b[0mops\u001b[0m\u001b[0;34m.\u001b[0m\u001b[0mstochastic_depth\u001b[0m \u001b[0;32mimport\u001b[0m \u001b[0mStochasticDepth\u001b[0m\u001b[0;34m\u001b[0m\u001b[0;34m\u001b[0m\u001b[0m\n\u001b[1;32m     10\u001b[0m \u001b[0;32mfrom\u001b[0m \u001b[0;34m.\u001b[0m\u001b[0;34m.\u001b[0m\u001b[0mtransforms\u001b[0m\u001b[0;34m.\u001b[0m\u001b[0m_presets\u001b[0m \u001b[0;32mimport\u001b[0m \u001b[0mImageClassification\u001b[0m\u001b[0;34m\u001b[0m\u001b[0;34m\u001b[0m\u001b[0m\n",
            "\u001b[0;32m/usr/local/lib/python3.11/dist-packages/torchvision/ops/__init__.py\u001b[0m in \u001b[0;36m<module>\u001b[0;34m\u001b[0m\n\u001b[1;32m     21\u001b[0m \u001b[0;32mfrom\u001b[0m \u001b[0;34m.\u001b[0m\u001b[0mgiou_loss\u001b[0m \u001b[0;32mimport\u001b[0m \u001b[0mgeneralized_box_iou_loss\u001b[0m\u001b[0;34m\u001b[0m\u001b[0;34m\u001b[0m\u001b[0m\n\u001b[1;32m     22\u001b[0m \u001b[0;32mfrom\u001b[0m \u001b[0;34m.\u001b[0m\u001b[0mmisc\u001b[0m \u001b[0;32mimport\u001b[0m \u001b[0mConv2dNormActivation\u001b[0m\u001b[0;34m,\u001b[0m \u001b[0mConv3dNormActivation\u001b[0m\u001b[0;34m,\u001b[0m \u001b[0mFrozenBatchNorm2d\u001b[0m\u001b[0;34m,\u001b[0m \u001b[0mMLP\u001b[0m\u001b[0;34m,\u001b[0m \u001b[0mPermute\u001b[0m\u001b[0;34m,\u001b[0m \u001b[0mSqueezeExcitation\u001b[0m\u001b[0;34m\u001b[0m\u001b[0;34m\u001b[0m\u001b[0m\n\u001b[0;32m---> 23\u001b[0;31m \u001b[0;32mfrom\u001b[0m \u001b[0;34m.\u001b[0m\u001b[0mpoolers\u001b[0m \u001b[0;32mimport\u001b[0m \u001b[0mMultiScaleRoIAlign\u001b[0m\u001b[0;34m\u001b[0m\u001b[0;34m\u001b[0m\u001b[0m\n\u001b[0m\u001b[1;32m     24\u001b[0m \u001b[0;32mfrom\u001b[0m \u001b[0;34m.\u001b[0m\u001b[0mps_roi_align\u001b[0m \u001b[0;32mimport\u001b[0m \u001b[0mps_roi_align\u001b[0m\u001b[0;34m,\u001b[0m \u001b[0mPSRoIAlign\u001b[0m\u001b[0;34m\u001b[0m\u001b[0;34m\u001b[0m\u001b[0m\n\u001b[1;32m     25\u001b[0m \u001b[0;32mfrom\u001b[0m \u001b[0;34m.\u001b[0m\u001b[0mps_roi_pool\u001b[0m \u001b[0;32mimport\u001b[0m \u001b[0mps_roi_pool\u001b[0m\u001b[0;34m,\u001b[0m \u001b[0mPSRoIPool\u001b[0m\u001b[0;34m\u001b[0m\u001b[0;34m\u001b[0m\u001b[0m\n",
            "\u001b[0;32m/usr/local/lib/python3.11/dist-packages/torchvision/ops/poolers.py\u001b[0m in \u001b[0;36m<module>\u001b[0;34m\u001b[0m\n\u001b[1;32m      8\u001b[0m \u001b[0;34m\u001b[0m\u001b[0m\n\u001b[1;32m      9\u001b[0m \u001b[0;32mfrom\u001b[0m \u001b[0;34m.\u001b[0m\u001b[0;34m.\u001b[0m\u001b[0mutils\u001b[0m \u001b[0;32mimport\u001b[0m \u001b[0m_log_api_usage_once\u001b[0m\u001b[0;34m\u001b[0m\u001b[0;34m\u001b[0m\u001b[0m\n\u001b[0;32m---> 10\u001b[0;31m \u001b[0;32mfrom\u001b[0m \u001b[0;34m.\u001b[0m\u001b[0mroi_align\u001b[0m \u001b[0;32mimport\u001b[0m \u001b[0mroi_align\u001b[0m\u001b[0;34m\u001b[0m\u001b[0;34m\u001b[0m\u001b[0m\n\u001b[0m\u001b[1;32m     11\u001b[0m \u001b[0;34m\u001b[0m\u001b[0m\n\u001b[1;32m     12\u001b[0m \u001b[0;34m\u001b[0m\u001b[0m\n",
            "\u001b[0;32m/usr/local/lib/python3.11/dist-packages/torchvision/ops/roi_align.py\u001b[0m in \u001b[0;36m<module>\u001b[0;34m\u001b[0m\n\u001b[1;32m      5\u001b[0m \u001b[0;32mimport\u001b[0m \u001b[0mtorch\u001b[0m\u001b[0;34m.\u001b[0m\u001b[0mfx\u001b[0m\u001b[0;34m\u001b[0m\u001b[0;34m\u001b[0m\u001b[0m\n\u001b[1;32m      6\u001b[0m \u001b[0;32mfrom\u001b[0m \u001b[0mtorch\u001b[0m \u001b[0;32mimport\u001b[0m \u001b[0mnn\u001b[0m\u001b[0;34m,\u001b[0m \u001b[0mTensor\u001b[0m\u001b[0;34m\u001b[0m\u001b[0;34m\u001b[0m\u001b[0m\n\u001b[0;32m----> 7\u001b[0;31m \u001b[0;32mfrom\u001b[0m \u001b[0mtorch\u001b[0m\u001b[0;34m.\u001b[0m\u001b[0m_dynamo\u001b[0m\u001b[0;34m.\u001b[0m\u001b[0mutils\u001b[0m \u001b[0;32mimport\u001b[0m \u001b[0mis_compile_supported\u001b[0m\u001b[0;34m\u001b[0m\u001b[0;34m\u001b[0m\u001b[0m\n\u001b[0m\u001b[1;32m      8\u001b[0m \u001b[0;32mfrom\u001b[0m \u001b[0mtorch\u001b[0m\u001b[0;34m.\u001b[0m\u001b[0mjit\u001b[0m\u001b[0;34m.\u001b[0m\u001b[0mannotations\u001b[0m \u001b[0;32mimport\u001b[0m \u001b[0mBroadcastingList2\u001b[0m\u001b[0;34m\u001b[0m\u001b[0;34m\u001b[0m\u001b[0m\n\u001b[1;32m      9\u001b[0m \u001b[0;32mfrom\u001b[0m \u001b[0mtorch\u001b[0m\u001b[0;34m.\u001b[0m\u001b[0mnn\u001b[0m\u001b[0;34m.\u001b[0m\u001b[0mmodules\u001b[0m\u001b[0;34m.\u001b[0m\u001b[0mutils\u001b[0m \u001b[0;32mimport\u001b[0m \u001b[0m_pair\u001b[0m\u001b[0;34m\u001b[0m\u001b[0;34m\u001b[0m\u001b[0m\n",
            "\u001b[0;32m/usr/local/lib/python3.11/dist-packages/torch/_dynamo/__init__.py\u001b[0m in \u001b[0;36m<module>\u001b[0;34m\u001b[0m\n\u001b[1;32m      1\u001b[0m \u001b[0;32mimport\u001b[0m \u001b[0mtorch\u001b[0m\u001b[0;34m\u001b[0m\u001b[0;34m\u001b[0m\u001b[0m\n\u001b[1;32m      2\u001b[0m \u001b[0;34m\u001b[0m\u001b[0m\n\u001b[0;32m----> 3\u001b[0;31m \u001b[0;32mfrom\u001b[0m \u001b[0;34m.\u001b[0m \u001b[0;32mimport\u001b[0m \u001b[0mconvert_frame\u001b[0m\u001b[0;34m,\u001b[0m \u001b[0meval_frame\u001b[0m\u001b[0;34m,\u001b[0m \u001b[0mresume_execution\u001b[0m\u001b[0;34m\u001b[0m\u001b[0;34m\u001b[0m\u001b[0m\n\u001b[0m\u001b[1;32m      4\u001b[0m \u001b[0;32mfrom\u001b[0m \u001b[0;34m.\u001b[0m\u001b[0mbackends\u001b[0m\u001b[0;34m.\u001b[0m\u001b[0mregistry\u001b[0m \u001b[0;32mimport\u001b[0m \u001b[0mlist_backends\u001b[0m\u001b[0;34m,\u001b[0m \u001b[0mlookup_backend\u001b[0m\u001b[0;34m,\u001b[0m \u001b[0mregister_backend\u001b[0m\u001b[0;34m\u001b[0m\u001b[0;34m\u001b[0m\u001b[0m\n\u001b[1;32m      5\u001b[0m \u001b[0;32mfrom\u001b[0m \u001b[0;34m.\u001b[0m\u001b[0mcallback\u001b[0m \u001b[0;32mimport\u001b[0m \u001b[0mcallback_handler\u001b[0m\u001b[0;34m,\u001b[0m \u001b[0mon_compile_end\u001b[0m\u001b[0;34m,\u001b[0m \u001b[0mon_compile_start\u001b[0m\u001b[0;34m\u001b[0m\u001b[0;34m\u001b[0m\u001b[0m\n",
            "\u001b[0;32m/usr/local/lib/python3.11/dist-packages/torch/_dynamo/convert_frame.py\u001b[0m in \u001b[0;36m<module>\u001b[0;34m\u001b[0m\n\u001b[1;32m     31\u001b[0m \u001b[0;32mfrom\u001b[0m \u001b[0mtorch\u001b[0m\u001b[0;34m.\u001b[0m\u001b[0m_C\u001b[0m\u001b[0;34m.\u001b[0m\u001b[0m_dynamo\u001b[0m\u001b[0;34m.\u001b[0m\u001b[0mguards\u001b[0m \u001b[0;32mimport\u001b[0m \u001b[0mGlobalStateGuard\u001b[0m\u001b[0;34m\u001b[0m\u001b[0;34m\u001b[0m\u001b[0m\n\u001b[1;32m     32\u001b[0m \u001b[0;32mfrom\u001b[0m \u001b[0mtorch\u001b[0m\u001b[0;34m.\u001b[0m\u001b[0m_dynamo\u001b[0m\u001b[0;34m.\u001b[0m\u001b[0mdistributed\u001b[0m \u001b[0;32mimport\u001b[0m \u001b[0mget_compile_pg\u001b[0m\u001b[0;34m\u001b[0m\u001b[0;34m\u001b[0m\u001b[0m\n\u001b[0;32m---> 33\u001b[0;31m \u001b[0;32mfrom\u001b[0m \u001b[0mtorch\u001b[0m\u001b[0;34m.\u001b[0m\u001b[0m_dynamo\u001b[0m\u001b[0;34m.\u001b[0m\u001b[0msymbolic_convert\u001b[0m \u001b[0;32mimport\u001b[0m \u001b[0mTensorifyState\u001b[0m\u001b[0;34m\u001b[0m\u001b[0;34m\u001b[0m\u001b[0m\n\u001b[0m\u001b[1;32m     34\u001b[0m \u001b[0;32mfrom\u001b[0m \u001b[0mtorch\u001b[0m\u001b[0;34m.\u001b[0m\u001b[0m_guards\u001b[0m \u001b[0;32mimport\u001b[0m \u001b[0mcompile_context\u001b[0m\u001b[0;34m,\u001b[0m \u001b[0mCompileContext\u001b[0m\u001b[0;34m,\u001b[0m \u001b[0mCompileId\u001b[0m\u001b[0;34m,\u001b[0m \u001b[0mtracing\u001b[0m\u001b[0;34m\u001b[0m\u001b[0;34m\u001b[0m\u001b[0m\n\u001b[1;32m     35\u001b[0m \u001b[0;32mfrom\u001b[0m \u001b[0mtorch\u001b[0m\u001b[0;34m.\u001b[0m\u001b[0m_logging\u001b[0m \u001b[0;32mimport\u001b[0m \u001b[0mstructured\u001b[0m\u001b[0;34m\u001b[0m\u001b[0;34m\u001b[0m\u001b[0m\n",
            "\u001b[0;32m/usr/local/lib/python3.11/dist-packages/torch/_dynamo/symbolic_convert.py\u001b[0m in \u001b[0;36m<module>\u001b[0;34m\u001b[0m\n\u001b[1;32m     25\u001b[0m \u001b[0;32mimport\u001b[0m \u001b[0mtorch\u001b[0m\u001b[0;34m\u001b[0m\u001b[0;34m\u001b[0m\u001b[0m\n\u001b[1;32m     26\u001b[0m \u001b[0;32mimport\u001b[0m \u001b[0mtorch\u001b[0m\u001b[0;34m.\u001b[0m\u001b[0m_logging\u001b[0m\u001b[0;34m\u001b[0m\u001b[0;34m\u001b[0m\u001b[0m\n\u001b[0;32m---> 27\u001b[0;31m \u001b[0;32mfrom\u001b[0m \u001b[0mtorch\u001b[0m\u001b[0;34m.\u001b[0m\u001b[0m_dynamo\u001b[0m\u001b[0;34m.\u001b[0m\u001b[0mexc\u001b[0m \u001b[0;32mimport\u001b[0m \u001b[0mTensorifyScalarRestartAnalysis\u001b[0m\u001b[0;34m\u001b[0m\u001b[0;34m\u001b[0m\u001b[0m\n\u001b[0m\u001b[1;32m     28\u001b[0m \u001b[0;32mfrom\u001b[0m \u001b[0mtorch\u001b[0m\u001b[0;34m.\u001b[0m\u001b[0m_guards\u001b[0m \u001b[0;32mimport\u001b[0m \u001b[0mtracing\u001b[0m\u001b[0;34m,\u001b[0m \u001b[0mTracingContext\u001b[0m\u001b[0;34m\u001b[0m\u001b[0;34m\u001b[0m\u001b[0m\n\u001b[1;32m     29\u001b[0m \u001b[0;34m\u001b[0m\u001b[0m\n",
            "\u001b[0;32m/usr/local/lib/python3.11/dist-packages/torch/_dynamo/exc.py\u001b[0m in \u001b[0;36m<module>\u001b[0;34m\u001b[0m\n\u001b[1;32m      9\u001b[0m \u001b[0;34m\u001b[0m\u001b[0m\n\u001b[1;32m     10\u001b[0m \u001b[0;32mfrom\u001b[0m \u001b[0;34m.\u001b[0m \u001b[0;32mimport\u001b[0m \u001b[0mconfig\u001b[0m\u001b[0;34m\u001b[0m\u001b[0;34m\u001b[0m\u001b[0m\n\u001b[0;32m---> 11\u001b[0;31m \u001b[0;32mfrom\u001b[0m \u001b[0;34m.\u001b[0m\u001b[0mutils\u001b[0m \u001b[0;32mimport\u001b[0m \u001b[0mcounters\u001b[0m\u001b[0;34m\u001b[0m\u001b[0;34m\u001b[0m\u001b[0m\n\u001b[0m\u001b[1;32m     12\u001b[0m \u001b[0;34m\u001b[0m\u001b[0m\n\u001b[1;32m     13\u001b[0m \u001b[0;34m\u001b[0m\u001b[0m\n",
            "\u001b[0;32m/usr/local/lib/python3.11/dist-packages/torch/_dynamo/utils.py\u001b[0m in \u001b[0;36m<module>\u001b[0;34m\u001b[0m\n\u001b[1;32m     64\u001b[0m \u001b[0;32mimport\u001b[0m \u001b[0mtorch\u001b[0m\u001b[0;34m\u001b[0m\u001b[0;34m\u001b[0m\u001b[0m\n\u001b[1;32m     65\u001b[0m \u001b[0;32mimport\u001b[0m \u001b[0mtorch\u001b[0m\u001b[0;34m.\u001b[0m\u001b[0m_functorch\u001b[0m\u001b[0;34m.\u001b[0m\u001b[0mconfig\u001b[0m\u001b[0;34m\u001b[0m\u001b[0;34m\u001b[0m\u001b[0m\n\u001b[0;32m---> 66\u001b[0;31m \u001b[0;32mimport\u001b[0m \u001b[0mtorch\u001b[0m\u001b[0;34m.\u001b[0m\u001b[0mfx\u001b[0m\u001b[0;34m.\u001b[0m\u001b[0mexperimental\u001b[0m\u001b[0;34m.\u001b[0m\u001b[0msymbolic_shapes\u001b[0m\u001b[0;34m\u001b[0m\u001b[0;34m\u001b[0m\u001b[0m\n\u001b[0m\u001b[1;32m     67\u001b[0m \u001b[0;32mimport\u001b[0m \u001b[0mtorch\u001b[0m\u001b[0;34m.\u001b[0m\u001b[0mutils\u001b[0m\u001b[0;34m.\u001b[0m\u001b[0m_pytree\u001b[0m \u001b[0;32mas\u001b[0m \u001b[0mpytree\u001b[0m\u001b[0;34m\u001b[0m\u001b[0;34m\u001b[0m\u001b[0m\n\u001b[1;32m     68\u001b[0m \u001b[0;32mfrom\u001b[0m \u001b[0mtorch\u001b[0m \u001b[0;32mimport\u001b[0m \u001b[0mfx\u001b[0m\u001b[0;34m\u001b[0m\u001b[0;34m\u001b[0m\u001b[0m\n",
            "\u001b[0;32m/usr/local/lib/python3.11/dist-packages/torch/fx/experimental/symbolic_shapes.py\u001b[0m in \u001b[0;36m<module>\u001b[0;34m\u001b[0m\n\u001b[1;32m     72\u001b[0m \u001b[0;32mfrom\u001b[0m \u001b[0mtorch\u001b[0m\u001b[0;34m.\u001b[0m\u001b[0mutils\u001b[0m\u001b[0;34m.\u001b[0m\u001b[0m_ordered_set\u001b[0m \u001b[0;32mimport\u001b[0m \u001b[0mOrderedSet\u001b[0m\u001b[0;34m\u001b[0m\u001b[0;34m\u001b[0m\u001b[0m\n\u001b[1;32m     73\u001b[0m \u001b[0;32mfrom\u001b[0m \u001b[0mtorch\u001b[0m\u001b[0;34m.\u001b[0m\u001b[0mutils\u001b[0m\u001b[0;34m.\u001b[0m\u001b[0m_python_dispatch\u001b[0m \u001b[0;32mimport\u001b[0m \u001b[0mis_traceable_wrapper_subclass\u001b[0m\u001b[0;34m\u001b[0m\u001b[0;34m\u001b[0m\u001b[0m\n\u001b[0;32m---> 74\u001b[0;31m from torch.utils._sympy.functions import (\n\u001b[0m\u001b[1;32m     75\u001b[0m     \u001b[0mApplication\u001b[0m\u001b[0;34m,\u001b[0m\u001b[0;34m\u001b[0m\u001b[0;34m\u001b[0m\u001b[0m\n\u001b[1;32m     76\u001b[0m     \u001b[0mCeilToInt\u001b[0m\u001b[0;34m,\u001b[0m\u001b[0;34m\u001b[0m\u001b[0;34m\u001b[0m\u001b[0m\n",
            "\u001b[0;32m/usr/local/lib/python3.11/dist-packages/torch/utils/_sympy/functions.py\u001b[0m in \u001b[0;36m<module>\u001b[0;34m\u001b[0m\n\u001b[1;32m     16\u001b[0m )\n\u001b[1;32m     17\u001b[0m \u001b[0;34m\u001b[0m\u001b[0m\n\u001b[0;32m---> 18\u001b[0;31m \u001b[0;32mimport\u001b[0m \u001b[0msympy\u001b[0m\u001b[0;34m\u001b[0m\u001b[0;34m\u001b[0m\u001b[0m\n\u001b[0m\u001b[1;32m     19\u001b[0m \u001b[0;32mfrom\u001b[0m \u001b[0msympy\u001b[0m \u001b[0;32mimport\u001b[0m \u001b[0mS\u001b[0m\u001b[0;34m\u001b[0m\u001b[0;34m\u001b[0m\u001b[0m\n\u001b[1;32m     20\u001b[0m \u001b[0;32mfrom\u001b[0m \u001b[0msympy\u001b[0m\u001b[0;34m.\u001b[0m\u001b[0mcore\u001b[0m \u001b[0;32mimport\u001b[0m \u001b[0msympify\u001b[0m\u001b[0;34m\u001b[0m\u001b[0;34m\u001b[0m\u001b[0m\n",
            "\u001b[0;32m/usr/local/lib/python3.11/dist-packages/sympy/__init__.py\u001b[0m in \u001b[0;36m<module>\u001b[0;34m\u001b[0m\n\u001b[1;32m    106\u001b[0m         Options, ring, xring, vring, sring, field, xfield, vfield, sfield)\n\u001b[1;32m    107\u001b[0m \u001b[0;34m\u001b[0m\u001b[0m\n\u001b[0;32m--> 108\u001b[0;31m from .series import (Order, O, limit, Limit, gruntz, series, approximants,\n\u001b[0m\u001b[1;32m    109\u001b[0m         \u001b[0mresidue\u001b[0m\u001b[0;34m,\u001b[0m \u001b[0mEmptySequence\u001b[0m\u001b[0;34m,\u001b[0m \u001b[0mSeqPer\u001b[0m\u001b[0;34m,\u001b[0m \u001b[0mSeqFormula\u001b[0m\u001b[0;34m,\u001b[0m \u001b[0msequence\u001b[0m\u001b[0;34m,\u001b[0m \u001b[0mSeqAdd\u001b[0m\u001b[0;34m,\u001b[0m \u001b[0mSeqMul\u001b[0m\u001b[0;34m,\u001b[0m\u001b[0;34m\u001b[0m\u001b[0;34m\u001b[0m\u001b[0m\n\u001b[1;32m    110\u001b[0m         fourier_series, fps, difference_delta, limit_seq)\n",
            "\u001b[0;32m/usr/local/lib/python3.11/dist-packages/sympy/series/__init__.py\u001b[0m in \u001b[0;36m<module>\u001b[0;34m\u001b[0m\n\u001b[1;32m      2\u001b[0m \"\"\"\n\u001b[1;32m      3\u001b[0m \u001b[0;32mfrom\u001b[0m \u001b[0;34m.\u001b[0m\u001b[0morder\u001b[0m \u001b[0;32mimport\u001b[0m \u001b[0mOrder\u001b[0m\u001b[0;34m\u001b[0m\u001b[0;34m\u001b[0m\u001b[0m\n\u001b[0;32m----> 4\u001b[0;31m \u001b[0;32mfrom\u001b[0m \u001b[0;34m.\u001b[0m\u001b[0mlimits\u001b[0m \u001b[0;32mimport\u001b[0m \u001b[0mlimit\u001b[0m\u001b[0;34m,\u001b[0m \u001b[0mLimit\u001b[0m\u001b[0;34m\u001b[0m\u001b[0;34m\u001b[0m\u001b[0m\n\u001b[0m\u001b[1;32m      5\u001b[0m \u001b[0;32mfrom\u001b[0m \u001b[0;34m.\u001b[0m\u001b[0mgruntz\u001b[0m \u001b[0;32mimport\u001b[0m \u001b[0mgruntz\u001b[0m\u001b[0;34m\u001b[0m\u001b[0;34m\u001b[0m\u001b[0m\n\u001b[1;32m      6\u001b[0m \u001b[0;32mfrom\u001b[0m \u001b[0;34m.\u001b[0m\u001b[0mseries\u001b[0m \u001b[0;32mimport\u001b[0m \u001b[0mseries\u001b[0m\u001b[0;34m\u001b[0m\u001b[0;34m\u001b[0m\u001b[0m\n",
            "\u001b[0;32m/usr/local/lib/python3.11/dist-packages/sympy/series/limits.py\u001b[0m in \u001b[0;36m<module>\u001b[0;34m\u001b[0m\n\u001b[0;32m----> 1\u001b[0;31m \u001b[0;32mfrom\u001b[0m \u001b[0msympy\u001b[0m\u001b[0;34m.\u001b[0m\u001b[0mcalculus\u001b[0m\u001b[0;34m.\u001b[0m\u001b[0maccumulationbounds\u001b[0m \u001b[0;32mimport\u001b[0m \u001b[0mAccumBounds\u001b[0m\u001b[0;34m\u001b[0m\u001b[0;34m\u001b[0m\u001b[0m\n\u001b[0m\u001b[1;32m      2\u001b[0m \u001b[0;32mfrom\u001b[0m \u001b[0msympy\u001b[0m\u001b[0;34m.\u001b[0m\u001b[0mcore\u001b[0m \u001b[0;32mimport\u001b[0m \u001b[0mS\u001b[0m\u001b[0;34m,\u001b[0m \u001b[0mSymbol\u001b[0m\u001b[0;34m,\u001b[0m \u001b[0mAdd\u001b[0m\u001b[0;34m,\u001b[0m \u001b[0msympify\u001b[0m\u001b[0;34m,\u001b[0m \u001b[0mExpr\u001b[0m\u001b[0;34m,\u001b[0m \u001b[0mPoleError\u001b[0m\u001b[0;34m,\u001b[0m \u001b[0mMul\u001b[0m\u001b[0;34m\u001b[0m\u001b[0;34m\u001b[0m\u001b[0m\n\u001b[1;32m      3\u001b[0m \u001b[0;32mfrom\u001b[0m \u001b[0msympy\u001b[0m\u001b[0;34m.\u001b[0m\u001b[0mcore\u001b[0m\u001b[0;34m.\u001b[0m\u001b[0mexprtools\u001b[0m \u001b[0;32mimport\u001b[0m \u001b[0mfactor_terms\u001b[0m\u001b[0;34m\u001b[0m\u001b[0;34m\u001b[0m\u001b[0m\n\u001b[1;32m      4\u001b[0m \u001b[0;32mfrom\u001b[0m \u001b[0msympy\u001b[0m\u001b[0;34m.\u001b[0m\u001b[0mcore\u001b[0m\u001b[0;34m.\u001b[0m\u001b[0mnumbers\u001b[0m \u001b[0;32mimport\u001b[0m \u001b[0mFloat\u001b[0m\u001b[0;34m,\u001b[0m \u001b[0m_illegal\u001b[0m\u001b[0;34m\u001b[0m\u001b[0;34m\u001b[0m\u001b[0m\n\u001b[1;32m      5\u001b[0m \u001b[0;32mfrom\u001b[0m \u001b[0msympy\u001b[0m\u001b[0;34m.\u001b[0m\u001b[0mfunctions\u001b[0m\u001b[0;34m.\u001b[0m\u001b[0mcombinatorial\u001b[0m\u001b[0;34m.\u001b[0m\u001b[0mfactorials\u001b[0m \u001b[0;32mimport\u001b[0m \u001b[0mfactorial\u001b[0m\u001b[0;34m\u001b[0m\u001b[0;34m\u001b[0m\u001b[0m\n",
            "\u001b[0;32m/usr/local/lib/python3.11/dist-packages/sympy/calculus/__init__.py\u001b[0m in \u001b[0;36m<module>\u001b[0;34m\u001b[0m\n\u001b[1;32m      2\u001b[0m \u001b[0;34m\u001b[0m\u001b[0m\n\u001b[1;32m      3\u001b[0m \u001b[0;32mfrom\u001b[0m \u001b[0;34m.\u001b[0m\u001b[0meuler\u001b[0m \u001b[0;32mimport\u001b[0m \u001b[0meuler_equations\u001b[0m\u001b[0;34m\u001b[0m\u001b[0;34m\u001b[0m\u001b[0m\n\u001b[0;32m----> 4\u001b[0;31m from .singularities import (singularities, is_increasing,\n\u001b[0m\u001b[1;32m      5\u001b[0m                             \u001b[0mis_strictly_increasing\u001b[0m\u001b[0;34m,\u001b[0m \u001b[0mis_decreasing\u001b[0m\u001b[0;34m,\u001b[0m\u001b[0;34m\u001b[0m\u001b[0;34m\u001b[0m\u001b[0m\n\u001b[1;32m      6\u001b[0m                             is_strictly_decreasing, is_monotonic)\n",
            "\u001b[0;32m/usr/lib/python3.11/importlib/_bootstrap.py\u001b[0m in \u001b[0;36m_find_and_load\u001b[0;34m(name, import_)\u001b[0m\n",
            "\u001b[0;32m/usr/lib/python3.11/importlib/_bootstrap.py\u001b[0m in \u001b[0;36m_find_and_load_unlocked\u001b[0;34m(name, import_)\u001b[0m\n",
            "\u001b[0;32m/usr/lib/python3.11/importlib/_bootstrap.py\u001b[0m in \u001b[0;36m_load_unlocked\u001b[0;34m(spec)\u001b[0m\n",
            "\u001b[0;32m/usr/lib/python3.11/importlib/_bootstrap_external.py\u001b[0m in \u001b[0;36mexec_module\u001b[0;34m(self, module)\u001b[0m\n",
            "\u001b[0;32m/usr/lib/python3.11/importlib/_bootstrap_external.py\u001b[0m in \u001b[0;36mget_code\u001b[0;34m(self, fullname)\u001b[0m\n",
            "\u001b[0;32m/usr/lib/python3.11/importlib/_bootstrap_external.py\u001b[0m in \u001b[0;36mget_data\u001b[0;34m(self, path)\u001b[0m\n",
            "\u001b[0;31mKeyboardInterrupt\u001b[0m: "
          ]
        }
      ]
    }
  ]
}